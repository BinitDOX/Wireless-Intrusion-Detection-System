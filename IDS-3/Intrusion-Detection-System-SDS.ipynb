{
 "cells": [
  {
   "cell_type": "markdown",
   "id": "26dd6fdd",
   "metadata": {},
   "source": [
    "# Intrusion Detection System"
   ]
  },
  {
   "cell_type": "markdown",
   "id": "053cc74f",
   "metadata": {},
   "source": [
    "## Data Loading"
   ]
  },
  {
   "cell_type": "code",
   "execution_count": 57,
   "id": "048efc1b",
   "metadata": {},
   "outputs": [
    {
     "name": "stdout",
     "output_type": "stream",
     "text": [
      "Shape of data:  (151562, 24)\n"
     ]
    },
    {
     "name": "stderr",
     "output_type": "stream",
     "text": [
      "<ipython-input-57-6fa85102edf1>:9: DtypeWarning: Columns (7) have mixed types.Specify dtype option on import or set low_memory=False.\n",
      "  df = load_data('data/data.csv')\n"
     ]
    },
    {
     "data": {
      "text/html": [
       "<div>\n",
       "<style scoped>\n",
       "    .dataframe tbody tr th:only-of-type {\n",
       "        vertical-align: middle;\n",
       "    }\n",
       "\n",
       "    .dataframe tbody tr th {\n",
       "        vertical-align: top;\n",
       "    }\n",
       "\n",
       "    .dataframe thead th {\n",
       "        text-align: right;\n",
       "    }\n",
       "</style>\n",
       "<table border=\"1\" class=\"dataframe\">\n",
       "  <thead>\n",
       "    <tr style=\"text-align: right;\">\n",
       "      <th></th>\n",
       "      <th>frame.time_epoch</th>\n",
       "      <th>frame.time_delta</th>\n",
       "      <th>frame.time_delta_displayed</th>\n",
       "      <th>frame.time_relative</th>\n",
       "      <th>frame.len</th>\n",
       "      <th>frame.cap_len</th>\n",
       "      <th>radiotap.length</th>\n",
       "      <th>radiotap.present.tsft</th>\n",
       "      <th>radiotap.mactime</th>\n",
       "      <th>radiotap.datarate</th>\n",
       "      <th>...</th>\n",
       "      <th>wlan.fc.ds</th>\n",
       "      <th>wlan.fc.frag</th>\n",
       "      <th>wlan.fc.retry</th>\n",
       "      <th>wlan.fc.pwrmgt</th>\n",
       "      <th>wlan.fc.moredata</th>\n",
       "      <th>wlan.fc.protected</th>\n",
       "      <th>wlan.duration</th>\n",
       "      <th>wlan.frag</th>\n",
       "      <th>wlan.seq</th>\n",
       "      <th>class</th>\n",
       "    </tr>\n",
       "  </thead>\n",
       "  <tbody>\n",
       "    <tr>\n",
       "      <th>0</th>\n",
       "      <td>1.634038e+09</td>\n",
       "      <td>0.000000</td>\n",
       "      <td>0.000000</td>\n",
       "      <td>0.000000</td>\n",
       "      <td>63</td>\n",
       "      <td>63</td>\n",
       "      <td>12</td>\n",
       "      <td>0</td>\n",
       "      <td>NaN</td>\n",
       "      <td>1.0</td>\n",
       "      <td>...</td>\n",
       "      <td>0x00000000</td>\n",
       "      <td>0</td>\n",
       "      <td>0</td>\n",
       "      <td>0</td>\n",
       "      <td>0</td>\n",
       "      <td>0</td>\n",
       "      <td>314</td>\n",
       "      <td>0.0</td>\n",
       "      <td>3.0</td>\n",
       "      <td>AssociationRequest</td>\n",
       "    </tr>\n",
       "    <tr>\n",
       "      <th>1</th>\n",
       "      <td>1.634038e+09</td>\n",
       "      <td>0.019974</td>\n",
       "      <td>0.019974</td>\n",
       "      <td>0.019974</td>\n",
       "      <td>64</td>\n",
       "      <td>64</td>\n",
       "      <td>13</td>\n",
       "      <td>0</td>\n",
       "      <td>NaN</td>\n",
       "      <td>1.0</td>\n",
       "      <td>...</td>\n",
       "      <td>0x00000000</td>\n",
       "      <td>0</td>\n",
       "      <td>0</td>\n",
       "      <td>0</td>\n",
       "      <td>0</td>\n",
       "      <td>0</td>\n",
       "      <td>314</td>\n",
       "      <td>0.0</td>\n",
       "      <td>3.0</td>\n",
       "      <td>AssociationRequest</td>\n",
       "    </tr>\n",
       "    <tr>\n",
       "      <th>2</th>\n",
       "      <td>1.634038e+09</td>\n",
       "      <td>3.007324</td>\n",
       "      <td>3.007324</td>\n",
       "      <td>3.027298</td>\n",
       "      <td>63</td>\n",
       "      <td>63</td>\n",
       "      <td>12</td>\n",
       "      <td>0</td>\n",
       "      <td>NaN</td>\n",
       "      <td>1.0</td>\n",
       "      <td>...</td>\n",
       "      <td>0x00000000</td>\n",
       "      <td>0</td>\n",
       "      <td>0</td>\n",
       "      <td>0</td>\n",
       "      <td>0</td>\n",
       "      <td>0</td>\n",
       "      <td>314</td>\n",
       "      <td>0.0</td>\n",
       "      <td>9.0</td>\n",
       "      <td>AssociationRequest</td>\n",
       "    </tr>\n",
       "    <tr>\n",
       "      <th>3</th>\n",
       "      <td>1.634038e+09</td>\n",
       "      <td>0.019238</td>\n",
       "      <td>0.019238</td>\n",
       "      <td>3.046537</td>\n",
       "      <td>64</td>\n",
       "      <td>64</td>\n",
       "      <td>13</td>\n",
       "      <td>0</td>\n",
       "      <td>NaN</td>\n",
       "      <td>1.0</td>\n",
       "      <td>...</td>\n",
       "      <td>0x00000000</td>\n",
       "      <td>0</td>\n",
       "      <td>0</td>\n",
       "      <td>0</td>\n",
       "      <td>0</td>\n",
       "      <td>0</td>\n",
       "      <td>314</td>\n",
       "      <td>0.0</td>\n",
       "      <td>9.0</td>\n",
       "      <td>AssociationRequest</td>\n",
       "    </tr>\n",
       "    <tr>\n",
       "      <th>4</th>\n",
       "      <td>1.634038e+09</td>\n",
       "      <td>3.009314</td>\n",
       "      <td>3.009314</td>\n",
       "      <td>6.055851</td>\n",
       "      <td>63</td>\n",
       "      <td>63</td>\n",
       "      <td>12</td>\n",
       "      <td>0</td>\n",
       "      <td>NaN</td>\n",
       "      <td>1.0</td>\n",
       "      <td>...</td>\n",
       "      <td>0x00000000</td>\n",
       "      <td>0</td>\n",
       "      <td>0</td>\n",
       "      <td>0</td>\n",
       "      <td>0</td>\n",
       "      <td>0</td>\n",
       "      <td>314</td>\n",
       "      <td>0.0</td>\n",
       "      <td>15.0</td>\n",
       "      <td>AssociationRequest</td>\n",
       "    </tr>\n",
       "  </tbody>\n",
       "</table>\n",
       "<p>5 rows × 24 columns</p>\n",
       "</div>"
      ],
      "text/plain": [
       "   frame.time_epoch  frame.time_delta  frame.time_delta_displayed  \\\n",
       "0      1.634038e+09          0.000000                    0.000000   \n",
       "1      1.634038e+09          0.019974                    0.019974   \n",
       "2      1.634038e+09          3.007324                    3.007324   \n",
       "3      1.634038e+09          0.019238                    0.019238   \n",
       "4      1.634038e+09          3.009314                    3.009314   \n",
       "\n",
       "   frame.time_relative  frame.len  frame.cap_len  radiotap.length  \\\n",
       "0             0.000000         63             63               12   \n",
       "1             0.019974         64             64               13   \n",
       "2             3.027298         63             63               12   \n",
       "3             3.046537         64             64               13   \n",
       "4             6.055851         63             63               12   \n",
       "\n",
       "  radiotap.present.tsft  radiotap.mactime  radiotap.datarate  ...  wlan.fc.ds  \\\n",
       "0                     0               NaN                1.0  ...  0x00000000   \n",
       "1                     0               NaN                1.0  ...  0x00000000   \n",
       "2                     0               NaN                1.0  ...  0x00000000   \n",
       "3                     0               NaN                1.0  ...  0x00000000   \n",
       "4                     0               NaN                1.0  ...  0x00000000   \n",
       "\n",
       "   wlan.fc.frag  wlan.fc.retry  wlan.fc.pwrmgt wlan.fc.moredata  \\\n",
       "0             0              0               0                0   \n",
       "1             0              0               0                0   \n",
       "2             0              0               0                0   \n",
       "3             0              0               0                0   \n",
       "4             0              0               0                0   \n",
       "\n",
       "   wlan.fc.protected  wlan.duration  wlan.frag  wlan.seq               class  \n",
       "0                  0            314        0.0       3.0  AssociationRequest  \n",
       "1                  0            314        0.0       3.0  AssociationRequest  \n",
       "2                  0            314        0.0       9.0  AssociationRequest  \n",
       "3                  0            314        0.0       9.0  AssociationRequest  \n",
       "4                  0            314        0.0      15.0  AssociationRequest  \n",
       "\n",
       "[5 rows x 24 columns]"
      ]
     },
     "execution_count": 57,
     "metadata": {},
     "output_type": "execute_result"
    }
   ],
   "source": [
    "import numpy as np\n",
    "import pandas as pd\n",
    "\n",
    "def load_data(file_path):\n",
    "    '''Fuction to load csv data file as dataframe from given file path'''\n",
    "    df = pd.read_csv(file_path, sep='*')\n",
    "    return df\n",
    "\n",
    "df = load_data('data/data.csv')\n",
    "print('Shape of data: ', df.shape)\n",
    "df.head()"
   ]
  },
  {
   "cell_type": "markdown",
   "id": "cdbf5b95",
   "metadata": {},
   "source": [
    "## Exploratory Data Analysis"
   ]
  },
  {
   "cell_type": "code",
   "execution_count": 58,
   "id": "8cd6d615",
   "metadata": {},
   "outputs": [
    {
     "data": {
      "text/html": [
       "<div>\n",
       "<style scoped>\n",
       "    .dataframe tbody tr th:only-of-type {\n",
       "        vertical-align: middle;\n",
       "    }\n",
       "\n",
       "    .dataframe tbody tr th {\n",
       "        vertical-align: top;\n",
       "    }\n",
       "\n",
       "    .dataframe thead th {\n",
       "        text-align: right;\n",
       "    }\n",
       "</style>\n",
       "<table border=\"1\" class=\"dataframe\">\n",
       "  <thead>\n",
       "    <tr style=\"text-align: right;\">\n",
       "      <th></th>\n",
       "      <th>frame.time_epoch</th>\n",
       "      <th>frame.time_delta</th>\n",
       "      <th>frame.time_delta_displayed</th>\n",
       "      <th>frame.time_relative</th>\n",
       "      <th>frame.len</th>\n",
       "      <th>frame.cap_len</th>\n",
       "      <th>radiotap.length</th>\n",
       "      <th>radiotap.mactime</th>\n",
       "      <th>radiotap.datarate</th>\n",
       "      <th>radiotap.channel.freq</th>\n",
       "      <th>...</th>\n",
       "      <th>wlan.fc.type</th>\n",
       "      <th>wlan.fc.subtype</th>\n",
       "      <th>wlan.fc.frag</th>\n",
       "      <th>wlan.fc.retry</th>\n",
       "      <th>wlan.fc.pwrmgt</th>\n",
       "      <th>wlan.fc.moredata</th>\n",
       "      <th>wlan.fc.protected</th>\n",
       "      <th>wlan.duration</th>\n",
       "      <th>wlan.frag</th>\n",
       "      <th>wlan.seq</th>\n",
       "    </tr>\n",
       "  </thead>\n",
       "  <tbody>\n",
       "    <tr>\n",
       "      <th>count</th>\n",
       "      <td>1.515620e+05</td>\n",
       "      <td>151562.000000</td>\n",
       "      <td>151562.000000</td>\n",
       "      <td>151562.000000</td>\n",
       "      <td>151562.000000</td>\n",
       "      <td>151562.000000</td>\n",
       "      <td>151562.000000</td>\n",
       "      <td>2.249600e+04</td>\n",
       "      <td>151562.000000</td>\n",
       "      <td>22496.000000</td>\n",
       "      <td>...</td>\n",
       "      <td>151562.000000</td>\n",
       "      <td>151562.000000</td>\n",
       "      <td>151562.0</td>\n",
       "      <td>151562.000000</td>\n",
       "      <td>151562.000000</td>\n",
       "      <td>151562.000000</td>\n",
       "      <td>151562.000000</td>\n",
       "      <td>151562.000000</td>\n",
       "      <td>141432.0</td>\n",
       "      <td>141432.000000</td>\n",
       "    </tr>\n",
       "    <tr>\n",
       "      <th>mean</th>\n",
       "      <td>1.634036e+09</td>\n",
       "      <td>0.009931</td>\n",
       "      <td>0.009931</td>\n",
       "      <td>178.259924</td>\n",
       "      <td>77.281060</td>\n",
       "      <td>77.281060</td>\n",
       "      <td>15.825246</td>\n",
       "      <td>3.566134e+09</td>\n",
       "      <td>3.774648</td>\n",
       "      <td>2457.133579</td>\n",
       "      <td>...</td>\n",
       "      <td>0.139705</td>\n",
       "      <td>11.462926</td>\n",
       "      <td>0.0</td>\n",
       "      <td>0.045829</td>\n",
       "      <td>0.002164</td>\n",
       "      <td>0.000092</td>\n",
       "      <td>0.027619</td>\n",
       "      <td>326.673559</td>\n",
       "      <td>0.0</td>\n",
       "      <td>1941.480358</td>\n",
       "    </tr>\n",
       "    <tr>\n",
       "      <th>std</th>\n",
       "      <td>1.081933e+03</td>\n",
       "      <td>0.268500</td>\n",
       "      <td>0.268500</td>\n",
       "      <td>123.109746</td>\n",
       "      <td>204.288171</td>\n",
       "      <td>204.288171</td>\n",
       "      <td>8.042620</td>\n",
       "      <td>2.708722e+08</td>\n",
       "      <td>10.092657</td>\n",
       "      <td>13.723565</td>\n",
       "      <td>...</td>\n",
       "      <td>0.439382</td>\n",
       "      <td>1.977300</td>\n",
       "      <td>0.0</td>\n",
       "      <td>0.209116</td>\n",
       "      <td>0.046470</td>\n",
       "      <td>0.009611</td>\n",
       "      <td>0.163879</td>\n",
       "      <td>349.048201</td>\n",
       "      <td>0.0</td>\n",
       "      <td>1220.419114</td>\n",
       "    </tr>\n",
       "    <tr>\n",
       "      <th>min</th>\n",
       "      <td>1.634035e+09</td>\n",
       "      <td>-0.000027</td>\n",
       "      <td>-0.000027</td>\n",
       "      <td>0.000000</td>\n",
       "      <td>38.000000</td>\n",
       "      <td>38.000000</td>\n",
       "      <td>12.000000</td>\n",
       "      <td>2.889593e+09</td>\n",
       "      <td>1.000000</td>\n",
       "      <td>2412.000000</td>\n",
       "      <td>...</td>\n",
       "      <td>0.000000</td>\n",
       "      <td>0.000000</td>\n",
       "      <td>0.0</td>\n",
       "      <td>0.000000</td>\n",
       "      <td>0.000000</td>\n",
       "      <td>0.000000</td>\n",
       "      <td>0.000000</td>\n",
       "      <td>0.000000</td>\n",
       "      <td>0.0</td>\n",
       "      <td>0.000000</td>\n",
       "    </tr>\n",
       "    <tr>\n",
       "      <th>25%</th>\n",
       "      <td>1.634035e+09</td>\n",
       "      <td>0.000386</td>\n",
       "      <td>0.000386</td>\n",
       "      <td>67.000854</td>\n",
       "      <td>38.000000</td>\n",
       "      <td>38.000000</td>\n",
       "      <td>12.000000</td>\n",
       "      <td>3.654586e+09</td>\n",
       "      <td>1.000000</td>\n",
       "      <td>2462.000000</td>\n",
       "      <td>...</td>\n",
       "      <td>0.000000</td>\n",
       "      <td>12.000000</td>\n",
       "      <td>0.0</td>\n",
       "      <td>0.000000</td>\n",
       "      <td>0.000000</td>\n",
       "      <td>0.000000</td>\n",
       "      <td>0.000000</td>\n",
       "      <td>314.000000</td>\n",
       "      <td>0.0</td>\n",
       "      <td>838.000000</td>\n",
       "    </tr>\n",
       "    <tr>\n",
       "      <th>50%</th>\n",
       "      <td>1.634035e+09</td>\n",
       "      <td>0.001330</td>\n",
       "      <td>0.001330</td>\n",
       "      <td>195.461701</td>\n",
       "      <td>39.000000</td>\n",
       "      <td>39.000000</td>\n",
       "      <td>13.000000</td>\n",
       "      <td>3.715680e+09</td>\n",
       "      <td>1.000000</td>\n",
       "      <td>2462.000000</td>\n",
       "      <td>...</td>\n",
       "      <td>0.000000</td>\n",
       "      <td>12.000000</td>\n",
       "      <td>0.0</td>\n",
       "      <td>0.000000</td>\n",
       "      <td>0.000000</td>\n",
       "      <td>0.000000</td>\n",
       "      <td>0.000000</td>\n",
       "      <td>314.000000</td>\n",
       "      <td>0.0</td>\n",
       "      <td>1919.000000</td>\n",
       "    </tr>\n",
       "    <tr>\n",
       "      <th>75%</th>\n",
       "      <td>1.634036e+09</td>\n",
       "      <td>0.002021</td>\n",
       "      <td>0.002021</td>\n",
       "      <td>271.433268</td>\n",
       "      <td>39.000000</td>\n",
       "      <td>39.000000</td>\n",
       "      <td>13.000000</td>\n",
       "      <td>3.733304e+09</td>\n",
       "      <td>1.000000</td>\n",
       "      <td>2462.000000</td>\n",
       "      <td>...</td>\n",
       "      <td>0.000000</td>\n",
       "      <td>12.000000</td>\n",
       "      <td>0.0</td>\n",
       "      <td>0.000000</td>\n",
       "      <td>0.000000</td>\n",
       "      <td>0.000000</td>\n",
       "      <td>0.000000</td>\n",
       "      <td>314.000000</td>\n",
       "      <td>0.0</td>\n",
       "      <td>2998.000000</td>\n",
       "    </tr>\n",
       "    <tr>\n",
       "      <th>max</th>\n",
       "      <td>1.634039e+09</td>\n",
       "      <td>75.208453</td>\n",
       "      <td>75.208453</td>\n",
       "      <td>394.585680</td>\n",
       "      <td>1593.000000</td>\n",
       "      <td>1593.000000</td>\n",
       "      <td>39.000000</td>\n",
       "      <td>3.739052e+09</td>\n",
       "      <td>72.222200</td>\n",
       "      <td>2462.000000</td>\n",
       "      <td>...</td>\n",
       "      <td>2.000000</td>\n",
       "      <td>13.000000</td>\n",
       "      <td>0.0</td>\n",
       "      <td>1.000000</td>\n",
       "      <td>1.000000</td>\n",
       "      <td>1.000000</td>\n",
       "      <td>1.000000</td>\n",
       "      <td>5384.000000</td>\n",
       "      <td>0.0</td>\n",
       "      <td>4095.000000</td>\n",
       "    </tr>\n",
       "  </tbody>\n",
       "</table>\n",
       "<p>8 rows × 21 columns</p>\n",
       "</div>"
      ],
      "text/plain": [
       "       frame.time_epoch  frame.time_delta  frame.time_delta_displayed  \\\n",
       "count      1.515620e+05     151562.000000               151562.000000   \n",
       "mean       1.634036e+09          0.009931                    0.009931   \n",
       "std        1.081933e+03          0.268500                    0.268500   \n",
       "min        1.634035e+09         -0.000027                   -0.000027   \n",
       "25%        1.634035e+09          0.000386                    0.000386   \n",
       "50%        1.634035e+09          0.001330                    0.001330   \n",
       "75%        1.634036e+09          0.002021                    0.002021   \n",
       "max        1.634039e+09         75.208453                   75.208453   \n",
       "\n",
       "       frame.time_relative      frame.len  frame.cap_len  radiotap.length  \\\n",
       "count        151562.000000  151562.000000  151562.000000    151562.000000   \n",
       "mean            178.259924      77.281060      77.281060        15.825246   \n",
       "std             123.109746     204.288171     204.288171         8.042620   \n",
       "min               0.000000      38.000000      38.000000        12.000000   \n",
       "25%              67.000854      38.000000      38.000000        12.000000   \n",
       "50%             195.461701      39.000000      39.000000        13.000000   \n",
       "75%             271.433268      39.000000      39.000000        13.000000   \n",
       "max             394.585680    1593.000000    1593.000000        39.000000   \n",
       "\n",
       "       radiotap.mactime  radiotap.datarate  radiotap.channel.freq  ...  \\\n",
       "count      2.249600e+04      151562.000000           22496.000000  ...   \n",
       "mean       3.566134e+09           3.774648            2457.133579  ...   \n",
       "std        2.708722e+08          10.092657              13.723565  ...   \n",
       "min        2.889593e+09           1.000000            2412.000000  ...   \n",
       "25%        3.654586e+09           1.000000            2462.000000  ...   \n",
       "50%        3.715680e+09           1.000000            2462.000000  ...   \n",
       "75%        3.733304e+09           1.000000            2462.000000  ...   \n",
       "max        3.739052e+09          72.222200            2462.000000  ...   \n",
       "\n",
       "        wlan.fc.type  wlan.fc.subtype  wlan.fc.frag  wlan.fc.retry  \\\n",
       "count  151562.000000    151562.000000      151562.0  151562.000000   \n",
       "mean        0.139705        11.462926           0.0       0.045829   \n",
       "std         0.439382         1.977300           0.0       0.209116   \n",
       "min         0.000000         0.000000           0.0       0.000000   \n",
       "25%         0.000000        12.000000           0.0       0.000000   \n",
       "50%         0.000000        12.000000           0.0       0.000000   \n",
       "75%         0.000000        12.000000           0.0       0.000000   \n",
       "max         2.000000        13.000000           0.0       1.000000   \n",
       "\n",
       "       wlan.fc.pwrmgt  wlan.fc.moredata  wlan.fc.protected  wlan.duration  \\\n",
       "count   151562.000000     151562.000000      151562.000000  151562.000000   \n",
       "mean         0.002164          0.000092           0.027619     326.673559   \n",
       "std          0.046470          0.009611           0.163879     349.048201   \n",
       "min          0.000000          0.000000           0.000000       0.000000   \n",
       "25%          0.000000          0.000000           0.000000     314.000000   \n",
       "50%          0.000000          0.000000           0.000000     314.000000   \n",
       "75%          0.000000          0.000000           0.000000     314.000000   \n",
       "max          1.000000          1.000000           1.000000    5384.000000   \n",
       "\n",
       "       wlan.frag       wlan.seq  \n",
       "count   141432.0  141432.000000  \n",
       "mean         0.0    1941.480358  \n",
       "std          0.0    1220.419114  \n",
       "min          0.0       0.000000  \n",
       "25%          0.0     838.000000  \n",
       "50%          0.0    1919.000000  \n",
       "75%          0.0    2998.000000  \n",
       "max          0.0    4095.000000  \n",
       "\n",
       "[8 rows x 21 columns]"
      ]
     },
     "execution_count": 58,
     "metadata": {},
     "output_type": "execute_result"
    }
   ],
   "source": [
    "df.describe()"
   ]
  },
  {
   "cell_type": "markdown",
   "id": "b812bdb8",
   "metadata": {},
   "source": [
    "### Class Distribution"
   ]
  },
  {
   "cell_type": "code",
   "execution_count": 59,
   "id": "c2d2c855",
   "metadata": {},
   "outputs": [
    {
     "data": {
      "image/png": "[encoded data removed]",
      "text/plain": [
       "<Figure size 1080x864 with 1 Axes>"
      ]
     },
     "metadata": {
      "needs_background": "light"
     },
     "output_type": "display_data"
    },
    {
     "name": "stdout",
     "output_type": "stream",
     "text": [
      "{'AssociationRequest': 533, 'AssociationResponse': 2766, 'Authentication': 3385, 'Deauthentication': 128000, 'Normal': 16878}\n"
     ]
    }
   ],
   "source": [
    "from matplotlib import pyplot as plt\n",
    "import seaborn as sns\n",
    "\n",
    "def class_distrib(df):\n",
    "    '''This function displays class distribution as a bar plot for the given dataframe'''\n",
    "    unique, counts = np.unique(df['class'], return_counts=True)\n",
    "    distrib = dict(zip(unique, counts))\n",
    "\n",
    "    plt.figure(figsize=(15, 12))\n",
    "    sns.barplot(x=list(distrib.keys()), y=list(distrib.values()))\n",
    "    plt.title(\"Class Distribution\")\n",
    "    plt.xticks(rotation=45)\n",
    "    plt.xlabel(\"Classes\")\n",
    "    plt.ylabel(\"Count\")\n",
    "\n",
    "    plt.show()\n",
    "    print(distrib)\n",
    "    \n",
    "class_distrib(df)"
   ]
  },
  {
   "cell_type": "markdown",
   "id": "075c3bd9",
   "metadata": {},
   "source": [
    "- This is unbalanced data, we need to downsample the majority class"
   ]
  },
  {
   "cell_type": "markdown",
   "id": "9e5a0b1a",
   "metadata": {},
   "source": [
    "### Down Sampling majority class"
   ]
  },
  {
   "cell_type": "code",
   "execution_count": 60,
   "id": "19574224",
   "metadata": {},
   "outputs": [
    {
     "data": {
      "image/png": "[encoded data removed]",
      "text/plain": [
       "<Figure size 1080x864 with 1 Axes>"
      ]
     },
     "metadata": {
      "needs_background": "light"
     },
     "output_type": "display_data"
    },
    {
     "name": "stdout",
     "output_type": "stream",
     "text": [
      "{'AssociationRequest': 533, 'AssociationResponse': 2766, 'Authentication': 3385, 'Deauthentication': 20000, 'Normal': 16878}\n"
     ]
    }
   ],
   "source": [
    "def down_sample(df, class_name, n):\n",
    "    '''This function extracts n samples from the given dataframe for the given input class'''\n",
    "    df_maj = df[df['class'] == class_name]\n",
    "    df = df[df['class'] != class_name]\n",
    "\n",
    "    df_maj = df_maj.sample(n=n, random_state=420)\n",
    "\n",
    "    df = pd.concat([df_maj, df], axis=0)\n",
    "    \n",
    "    df.sample(frac=1, random_state=420)\n",
    "\n",
    "    return df\n",
    "\n",
    "df = down_sample(df, 'Deauthentication', 20000)\n",
    "\n",
    "class_distrib(df)"
   ]
  },
  {
   "cell_type": "markdown",
   "id": "952d32f1",
   "metadata": {},
   "source": [
    "### Shallow cleaning"
   ]
  },
  {
   "cell_type": "code",
   "execution_count": 61,
   "id": "c7340235",
   "metadata": {},
   "outputs": [
    {
     "name": "stdout",
     "output_type": "stream",
     "text": [
      "All class rows which still have some NaN value:  31196\n",
      "Normal class rows which still have some NaN value:  0\n"
     ]
    },
    {
     "name": "stderr",
     "output_type": "stream",
     "text": [
      "<ipython-input-61-a94b3de18fc7>:6: UserWarning: Boolean Series key will be reindexed to match DataFrame index.\n",
      "  df_nan_rows_normal = df[df.isnull().any(axis=1)][df['class'] == 'normal']\n"
     ]
    }
   ],
   "source": [
    "df = df.replace('?', np.NaN)\n",
    "# Rows which still have some NaN value \n",
    "df_nan_rows = df[df.isnull().any(axis=1)]\n",
    "print('All class rows which still have some NaN value: ', len(df_nan_rows))\n",
    "\n",
    "df_nan_rows_normal = df[df.isnull().any(axis=1)][df['class'] == 'normal']\n",
    "print('Normal class rows which still have some NaN value: ', len(df_nan_rows_normal))"
   ]
  },
  {
   "cell_type": "code",
   "execution_count": 62,
   "id": "0b5843c3",
   "metadata": {},
   "outputs": [
    {
     "name": "stdout",
     "output_type": "stream",
     "text": [
      "Columns removed: {'wlan.fc.frag', 'wlan.frag'}\n"
     ]
    }
   ],
   "source": [
    "def shallow_clean(df):\n",
    "    '''Cleans the the given dataframe at a shallow level'''\n",
    "    # Remove columns with >= 85% NaNs\n",
    "    thres_limit = len(df) * 0.25\n",
    "    df = df.dropna(thresh=int(thres_limit), axis=1)\n",
    "\n",
    "    # Remove columns with constant value\n",
    "    df = df.drop(columns=df.columns[df.nunique()==1])\n",
    "\n",
    "    # Remove rows with >= 50% NaNs\n",
    "    thres_limit = df.shape[1] * 0.50\n",
    "    df = df.dropna(thresh=int(thres_limit), axis=0)\n",
    "    \n",
    "    return df\n",
    "\n",
    "cols_before = set(df.columns)\n",
    "df = shallow_clean(df)\n",
    "cols_after = set(df.columns)\n",
    "print('Columns removed:', cols_before - cols_after)"
   ]
  },
  {
   "cell_type": "code",
   "execution_count": 63,
   "id": "38a38ba4",
   "metadata": {},
   "outputs": [
    {
     "data": {
      "text/plain": [
       "frame.time_epoch              False\n",
       "frame.time_delta              False\n",
       "frame.time_delta_displayed    False\n",
       "frame.time_relative           False\n",
       "frame.len                     False\n",
       "frame.cap_len                 False\n",
       "radiotap.length               False\n",
       "radiotap.present.tsft         False\n",
       "radiotap.mactime               True\n",
       "radiotap.datarate             False\n",
       "radiotap.channel.freq          True\n",
       "wlan.fc.type_subtype          False\n",
       "wlan.fc.type                  False\n",
       "wlan.fc.subtype               False\n",
       "wlan.fc.ds                    False\n",
       "wlan.fc.retry                 False\n",
       "wlan.fc.pwrmgt                False\n",
       "wlan.fc.moredata              False\n",
       "wlan.fc.protected             False\n",
       "wlan.duration                 False\n",
       "wlan.seq                       True\n",
       "class                         False\n",
       "dtype: bool"
      ]
     },
     "execution_count": 63,
     "metadata": {},
     "output_type": "execute_result"
    }
   ],
   "source": [
    "df.isna().any()"
   ]
  },
  {
   "cell_type": "code",
   "execution_count": 64,
   "id": "dfff11ab",
   "metadata": {},
   "outputs": [
    {
     "data": {
      "text/plain": [
       "frame.time_epoch              float64\n",
       "frame.time_delta              float64\n",
       "frame.time_delta_displayed    float64\n",
       "frame.time_relative           float64\n",
       "frame.len                       int64\n",
       "frame.cap_len                   int64\n",
       "radiotap.length                 int64\n",
       "radiotap.present.tsft          object\n",
       "radiotap.mactime              float64\n",
       "radiotap.datarate             float64\n",
       "radiotap.channel.freq         float64\n",
       "wlan.fc.type_subtype            int64\n",
       "wlan.fc.type                    int64\n",
       "wlan.fc.subtype                 int64\n",
       "wlan.fc.ds                     object\n",
       "wlan.fc.retry                   int64\n",
       "wlan.fc.pwrmgt                  int64\n",
       "wlan.fc.moredata                int64\n",
       "wlan.fc.protected               int64\n",
       "wlan.duration                   int64\n",
       "wlan.seq                      float64\n",
       "class                          object\n",
       "dtype: object"
      ]
     },
     "execution_count": 64,
     "metadata": {},
     "output_type": "execute_result"
    }
   ],
   "source": [
    "df.dtypes"
   ]
  },
  {
   "cell_type": "markdown",
   "id": "274b950b",
   "metadata": {},
   "source": [
    "## Pre-processing"
   ]
  },
  {
   "cell_type": "markdown",
   "id": "f4b020b2",
   "metadata": {},
   "source": [
    "### Replace NaNs with 0"
   ]
  },
  {
   "cell_type": "code",
   "execution_count": 65,
   "id": "d0037cd5",
   "metadata": {},
   "outputs": [
    {
     "data": {
      "image/png": "[encoded data removed]",
      "text/plain": [
       "<Figure size 1080x864 with 1 Axes>"
      ]
     },
     "metadata": {
      "needs_background": "light"
     },
     "output_type": "display_data"
    },
    {
     "name": "stdout",
     "output_type": "stream",
     "text": [
      "{'AssociationRequest': 532, 'Authentication': 534, 'Deauthentication': 20000, 'Normal': 10130}\n"
     ]
    }
   ],
   "source": [
    "class_distrib(df_nan_rows)"
   ]
  },
  {
   "cell_type": "code",
   "execution_count": 66,
   "id": "0bbf6055",
   "metadata": {},
   "outputs": [
    {
     "data": {
      "text/plain": [
       "[]"
      ]
     },
     "execution_count": 66,
     "metadata": {},
     "output_type": "execute_result"
    }
   ],
   "source": [
    "#Fill the NULL values\n",
    "num_nan_cols = ['radiotap.mactime', 'radiotap.datarate', 'wlan.seq', 'radiotap.channel.freq', 'wlan.frag', 'wlan.duration']\n",
    "\n",
    "for c in num_nan_cols:\n",
    "    try:\n",
    "        df[c].fillna(value=0, inplace=True)\n",
    "    except:\n",
    "        continue\n",
    "    \n",
    "df.columns[df.isna().any()].tolist()"
   ]
  },
  {
   "cell_type": "markdown",
   "id": "15d714cb",
   "metadata": {},
   "source": [
    "### Analyzing object type data"
   ]
  },
  {
   "cell_type": "code",
   "execution_count": 67,
   "id": "4ca71c9a",
   "metadata": {
    "scrolled": true
   },
   "outputs": [
    {
     "name": "stdout",
     "output_type": "stream",
     "text": [
      "Unique category counts: \n",
      "radiotap.present.tsft => 4\n",
      "wlan.fc.ds => 3\n",
      "class => 5\n"
     ]
    }
   ],
   "source": [
    "object_cols = list(df.select_dtypes(['object']))\n",
    "print('Unique category counts: ')\n",
    "for c in object_cols:\n",
    "    print(c, '=>', df[c].value_counts().count())"
   ]
  },
  {
   "cell_type": "code",
   "execution_count": 68,
   "id": "91683400",
   "metadata": {},
   "outputs": [],
   "source": [
    "# Save processed data to file\n",
    "df.to_csv('data/train_processed.csv', index=False)"
   ]
  },
  {
   "cell_type": "code",
   "execution_count": 69,
   "id": "5af149bf",
   "metadata": {},
   "outputs": [],
   "source": [
    "# Load processed data to df\n",
    "# df = pd.read_csv('data/train_processed_1.csv')"
   ]
  },
  {
   "cell_type": "markdown",
   "id": "90585e2c",
   "metadata": {},
   "source": [
    "### Standardizing"
   ]
  },
  {
   "cell_type": "code",
   "execution_count": 79,
   "id": "322ae152",
   "metadata": {},
   "outputs": [],
   "source": [
    "X = df.drop(['class'], axis=1)\n",
    "y = df['class']"
   ]
  },
  {
   "cell_type": "code",
   "execution_count": 80,
   "id": "99e8339f",
   "metadata": {},
   "outputs": [
    {
     "data": {
      "text/plain": [
       "['scaler_save/scaler.gz']"
      ]
     },
     "execution_count": 80,
     "metadata": {},
     "output_type": "execute_result"
    }
   ],
   "source": [
    "from sklearn.preprocessing import StandardScaler\n",
    "import joblib\n",
    "\n",
    "std_cols = ['frame.time_epoch', 'frame.time_delta', 'frame.time_delta_displayed', 'frame.time_relative', 'frame.len',\n",
    "           'frame.cap_len', 'radiotap.length', 'radiotap.mactime', 'radiotap.datarate', 'radiotap.channel.freq',\n",
    "           'wlan.duration', 'wlan.seq']\n",
    "with open('scaler_save/columns.txt', 'w') as f:\n",
    "    [f.write(c+'\\n') for c in std_cols]\n",
    "\n",
    "standard_scaler = StandardScaler()\n",
    "X[std_cols] = standard_scaler.fit_transform(X[std_cols])\n",
    "\n",
    "# Save this scalar to file\n",
    "joblib.dump(standard_scaler, 'scaler_save/scaler.gz')"
   ]
  },
  {
   "cell_type": "markdown",
   "id": "ec4c3559",
   "metadata": {},
   "source": [
    "### One-hot encoding (BoW)"
   ]
  },
  {
   "cell_type": "code",
   "execution_count": 84,
   "id": "4dc5478c",
   "metadata": {},
   "outputs": [
    {
     "data": {
      "text/plain": [
       "['encoder_save/encoder_x.gz']"
      ]
     },
     "execution_count": 84,
     "metadata": {},
     "output_type": "execute_result"
    }
   ],
   "source": [
    "from sklearn.preprocessing import OneHotEncoder\n",
    "\n",
    "enc_cols = ['wlan.fc.type_subtype', 'wlan.fc.type', 'wlan.fc.subtype', 'wlan.fc.ds', 'radiotap.present.tsft',\n",
    "            'radiotap.channel.freq', 'wlan.frag']\n",
    "\n",
    "with open('encoder_save/columns.txt', 'w') as f:\n",
    "    [f.write(c+'\\n') for c in enc_cols]\n",
    "    \n",
    "oh_encoder_x = OneHotEncoder(sparse=False, handle_unknown='ignore')\n",
    "array_ohe = oh_encoder_x.fit_transform(X[enc_cols].astype(str))\n",
    "df_ohe = pd.DataFrame(array_ohe, index=df.index)\n",
    "\n",
    "#Extract only the columns that didnt need to be encoded\n",
    "df_other = X.drop(columns=enc_cols)\n",
    "\n",
    "#Concatenate the two dataframes : \n",
    "X = pd.concat([df_ohe, df_other], axis=1)\n",
    "\n",
    "# Save this encoder to file\n",
    "joblib.dump(oh_encoder_x, 'encoder_save/encoder_x.gz')"
   ]
  },
  {
   "cell_type": "code",
   "execution_count": 85,
   "id": "442e37de",
   "metadata": {},
   "outputs": [
    {
     "name": "stdout",
     "output_type": "stream",
     "text": [
      "Shape of y before encoding:  (43562,)\n",
      "ReShape of y for encoding:  (43562, 1)\n",
      "Shape of y after encoding:  (43562, 5)\n"
     ]
    }
   ],
   "source": [
    "print('Shape of y before encoding: ', y.shape)\n",
    "print('ReShape of y for encoding: ', y.values.reshape(-1, 1).shape)\n",
    "\n",
    "oh_encoder_y = OneHotEncoder(handle_unknown='ignore', sparse=False)\n",
    "y_categorical = oh_encoder_y.fit_transform(y.values.reshape(-1, 1))\n",
    "joblib.dump(oh_encoder_y, 'encoder_save/encoder_y.gz')\n",
    "print('Shape of y after encoding: ', y_categorical.shape)"
   ]
  },
  {
   "cell_type": "code",
   "execution_count": 86,
   "id": "fb6e3acd",
   "metadata": {},
   "outputs": [
    {
     "data": {
      "text/plain": [
       "((43562, 22), (43562, 18), (43562,), (43562, 5))"
      ]
     },
     "execution_count": 86,
     "metadata": {},
     "output_type": "execute_result"
    }
   ],
   "source": [
    "df.shape, X.shape, y.shape, y_categorical.shape"
   ]
  },
  {
   "cell_type": "markdown",
   "id": "0d1e6eae",
   "metadata": {},
   "source": [
    "### Test train split"
   ]
  },
  {
   "cell_type": "code",
   "execution_count": 87,
   "id": "b02f3111",
   "metadata": {},
   "outputs": [],
   "source": [
    "from sklearn.model_selection import train_test_split\n",
    "\n",
    "X_train, X_val, y_train, y_val = train_test_split(X, y_categorical, test_size=0.33, stratify=y)"
   ]
  },
  {
   "cell_type": "markdown",
   "id": "fcea146a",
   "metadata": {},
   "source": [
    "### Write relevant features to file"
   ]
  },
  {
   "cell_type": "code",
   "execution_count": 88,
   "id": "594c75af",
   "metadata": {},
   "outputs": [],
   "source": [
    "relevant_columns = df.columns\n",
    "with open('data/relevant_columns.txt', 'w') as f:\n",
    "    [f.write(rc+'\\n') for rc in relevant_columns]"
   ]
  },
  {
   "cell_type": "markdown",
   "id": "6402d41a",
   "metadata": {},
   "source": [
    "### Writing class labels to file"
   ]
  },
  {
   "cell_type": "code",
   "execution_count": 89,
   "id": "b6381b93",
   "metadata": {},
   "outputs": [],
   "source": [
    "class_labels = oh_encoder_y.categories_[0]\n",
    "with open('data/class_labels.txt', 'w') as f:\n",
    "    [f.write(cl+'\\n') for cl in class_labels]"
   ]
  },
  {
   "cell_type": "markdown",
   "id": "94f4e51d",
   "metadata": {},
   "source": [
    "## Deep Learning Model"
   ]
  },
  {
   "cell_type": "markdown",
   "id": "4d95ddc2",
   "metadata": {},
   "source": [
    "### Model definition"
   ]
  },
  {
   "cell_type": "code",
   "execution_count": 90,
   "id": "c344e6bf",
   "metadata": {},
   "outputs": [
    {
     "name": "stdout",
     "output_type": "stream",
     "text": [
      "Model: \"model_2\"\n",
      "_________________________________________________________________\n",
      "Layer (type)                 Output Shape              Param #   \n",
      "=================================================================\n",
      "input_3 (InputLayer)         [(None, 18)]              0         \n",
      "_________________________________________________________________\n",
      "dense_8 (Dense)              (None, 16)                304       \n",
      "_________________________________________________________________\n",
      "dense_9 (Dense)              (None, 32)                544       \n",
      "_________________________________________________________________\n",
      "dense_10 (Dense)             (None, 32)                1056      \n",
      "_________________________________________________________________\n",
      "dense_11 (Dense)             (None, 5)                 165       \n",
      "=================================================================\n",
      "Total params: 2,069\n",
      "Trainable params: 2,069\n",
      "Non-trainable params: 0\n",
      "_________________________________________________________________\n"
     ]
    }
   ],
   "source": [
    "import tensorflow as tf\n",
    "from tensorflow.keras import layers\n",
    "from tensorflow.keras.models import Model\n",
    "\n",
    "def create_model(input_shape, n_class):\n",
    "    \"\"\"This function creates a simple DL model\"\"\"\n",
    "    input_layer = tf.keras.Input(shape=(input_shape,))\n",
    "    \n",
    "    dense_layer1 = layers.Dense(16, activation='relu')(input_layer)\n",
    "    dense_layer2 = layers.Dense(32, activation='relu')(dense_layer1)\n",
    "    dense_layer3 = layers.Dense(32, activation='relu')(dense_layer2)\n",
    "    \n",
    "    output_layer = layers.Dense(n_class, activation='softmax')(dense_layer3)\n",
    "    return Model(input_layer, output_layer)\n",
    "    \n",
    "model = create_model(X_train.shape[1], y_categorical.shape[1])\n",
    "\n",
    "model.summary()"
   ]
  },
  {
   "cell_type": "markdown",
   "id": "9353580b",
   "metadata": {},
   "source": [
    "### Setting model optimizers and callbacks"
   ]
  },
  {
   "cell_type": "code",
   "execution_count": 91,
   "id": "d0be693e",
   "metadata": {},
   "outputs": [],
   "source": [
    "model.compile(loss='categorical_crossentropy', optimizer=tf.keras.optimizers.Adam(learning_rate=0.001), metrics=['accuracy'])"
   ]
  },
  {
   "cell_type": "code",
   "execution_count": 92,
   "id": "18bec662",
   "metadata": {},
   "outputs": [
    {
     "name": "stdout",
     "output_type": "stream",
     "text": [
      "The tensorboard extension is already loaded. To reload it, use:\n",
      "  %reload_ext tensorboard\n"
     ]
    }
   ],
   "source": [
    "from tensorflow.keras.callbacks import ModelCheckpoint, EarlyStopping, TensorBoard\n",
    "%load_ext tensorboard\n",
    "\n",
    "log_dir=\"tensorboard\\\\logs\"\n",
    "tensorboard = TensorBoard(log_dir=log_dir, histogram_freq=1, write_graph=True)\n",
    "\n",
    "checkpoint = ModelCheckpoint(filepath='model_save/best_model.h5', monitor='val_accuracy',\n",
    "                             verbose=1, save_best_only=True, mode='auto')\n",
    "\n",
    "earlystop = EarlyStopping(monitor='val_accuracy', min_delta=0.0001, patience=4, verbose=1)"
   ]
  },
  {
   "cell_type": "markdown",
   "id": "a58689b9",
   "metadata": {},
   "source": [
    "### Model training"
   ]
  },
  {
   "cell_type": "code",
   "execution_count": 93,
   "id": "765303cc",
   "metadata": {
    "scrolled": false
   },
   "outputs": [
    {
     "name": "stdout",
     "output_type": "stream",
     "text": [
      "Epoch 1/10\n",
      "229/229 [==============================] - 2s 8ms/step - loss: 0.4893 - accuracy: 0.8894 - val_loss: 0.0382 - val_accuracy: 0.9878\n",
      "\n",
      "Epoch 00001: val_accuracy improved from -inf to 0.98776, saving model to model_save\\best_model.h5\n",
      "Epoch 2/10\n",
      "229/229 [==============================] - 1s 4ms/step - loss: 0.0160 - accuracy: 0.9973 - val_loss: 0.0034 - val_accuracy: 1.0000\n",
      "\n",
      "Epoch 00002: val_accuracy improved from 0.98776 to 1.00000, saving model to model_save\\best_model.h5\n",
      "Epoch 3/10\n",
      "229/229 [==============================] - 1s 4ms/step - loss: 0.0016 - accuracy: 1.0000 - val_loss: 7.4226e-04 - val_accuracy: 1.0000\n",
      "\n",
      "Epoch 00003: val_accuracy did not improve from 1.00000\n",
      "Epoch 4/10\n",
      "229/229 [==============================] - 1s 5ms/step - loss: 4.8049e-04 - accuracy: 1.0000 - val_loss: 3.1391e-04 - val_accuracy: 1.0000\n",
      "\n",
      "Epoch 00004: val_accuracy did not improve from 1.00000\n",
      "Epoch 5/10\n",
      "229/229 [==============================] - 1s 4ms/step - loss: 2.2639e-04 - accuracy: 1.0000 - val_loss: 1.6596e-04 - val_accuracy: 1.0000\n",
      "\n",
      "Epoch 00005: val_accuracy did not improve from 1.00000\n",
      "Epoch 6/10\n",
      "229/229 [==============================] - 1s 4ms/step - loss: 1.2752e-04 - accuracy: 1.0000 - val_loss: 1.0010e-04 - val_accuracy: 1.0000\n",
      "\n",
      "Epoch 00006: val_accuracy did not improve from 1.00000\n",
      "Epoch 00006: early stopping\n"
     ]
    }
   ],
   "source": [
    "history = model.fit(X_train, y_train, epochs=10, validation_data=(X_val, y_val),\n",
    "              batch_size=128, callbacks=[checkpoint, earlystop, tensorboard])"
   ]
  },
  {
   "cell_type": "markdown",
   "id": "6f6ff2dd",
   "metadata": {},
   "source": [
    "### Model performance"
   ]
  },
  {
   "cell_type": "code",
   "execution_count": 94,
   "id": "6bd31d99",
   "metadata": {},
   "outputs": [
    {
     "data": {
      "image/png": "[encoded data removed]",
      "text/plain": [
       "<Figure size 432x288 with 1 Axes>"
      ]
     },
     "metadata": {
      "needs_background": "light"
     },
     "output_type": "display_data"
    }
   ],
   "source": [
    "plt.plot(history.history['accuracy'])\n",
    "plt.plot(history.history['val_accuracy'])\n",
    "plt.title('Model Accuracy')\n",
    "plt.ylabel('Accuracy')\n",
    "plt.xlabel('Epoch')\n",
    "plt.legend(['Train', 'Validation'])\n",
    "plt.show()"
   ]
  },
  {
   "cell_type": "markdown",
   "id": "2fa31c8d",
   "metadata": {},
   "source": [
    "### Model results"
   ]
  },
  {
   "cell_type": "code",
   "execution_count": 95,
   "id": "104b1b8a",
   "metadata": {},
   "outputs": [],
   "source": [
    "from sklearn.metrics import confusion_matrix, classification_report\n",
    "\n",
    "y_preds_val = np.argmax(model.predict(X_val), axis=1)\n",
    "y_val = np.argmax(y_val, axis=1)\n",
    "y_preds_train = np.argmax(model.predict(X_train), axis=1)\n",
    "y_train = np.argmax(y_train, axis=1)\n",
    "\n",
    "with open('data/class_labels.txt', 'r') as f:\n",
    "    class_labels = np.array([line.strip() for line in f])\n",
    "\n",
    "cm_val = confusion_matrix(class_labels[y_val], class_labels[y_preds_val])\n",
    "cm_train = confusion_matrix(class_labels[y_train], class_labels[y_preds_train])\n",
    "\n",
    "df_cm_val = pd.DataFrame(cm_val, columns=class_labels, index=class_labels)\n",
    "df_cm_train = pd.DataFrame(cm_train, columns=class_labels, index=class_labels)\n",
    "df_cm_val.index.name = df_cm_train.index.name = 'Actual'\n",
    "df_cm_val.columns.name = df_cm_train.columns.name = 'Predicted'"
   ]
  },
  {
   "cell_type": "code",
   "execution_count": 96,
   "id": "b1a69c34",
   "metadata": {},
   "outputs": [
    {
     "data": {
      "image/png": "[encoded data removed]",
      "text/plain": [
       "<Figure size 720x1008 with 4 Axes>"
      ]
     },
     "metadata": {
      "needs_background": "light"
     },
     "output_type": "display_data"
    }
   ],
   "source": [
    "fig = plt.figure(figsize = (10, 14))\n",
    "\n",
    "fig.add_subplot(2, 1, 1)\n",
    "sp2 = sns.heatmap(df_cm_train, cmap=\"Blues\", annot=True, fmt='g')\n",
    "sp2.set_title('Traning CM')\n",
    "\n",
    "fig.add_subplot(2, 1, 2)\n",
    "sp1 = sns.heatmap(df_cm_val, cmap=\"Blues\", annot=True, fmt='g')\n",
    "sp1.set_title('Validation CM')\n",
    "\n",
    "plt.show()"
   ]
  },
  {
   "cell_type": "code",
   "execution_count": 51,
   "id": "828ec468",
   "metadata": {},
   "outputs": [
    {
     "name": "stdout",
     "output_type": "stream",
     "text": [
      "                     precision    recall  f1-score   support\n",
      "\n",
      " AssociationRequest       1.00      0.99      1.00       176\n",
      "AssociationResponse       1.00      1.00      1.00       913\n",
      "     Authentication       1.00      1.00      1.00      1117\n",
      "   Deauthentication       1.00      1.00      1.00      6600\n",
      "             Normal       1.00      1.00      1.00      5570\n",
      "\n",
      "           accuracy                           1.00     14376\n",
      "          macro avg       1.00      1.00      1.00     14376\n",
      "       weighted avg       1.00      1.00      1.00     14376\n",
      "\n"
     ]
    }
   ],
   "source": [
    "print(classification_report(class_labels[y_val], class_labels[y_preds_val], target_names=list(class_labels)))"
   ]
  }
 ],
 "metadata": {
  "kernelspec": {
   "display_name": "Python 3",
   "language": "python",
   "name": "python3"
  },
  "language_info": {
   "codemirror_mode": {
    "name": "ipython",
    "version": 3
   },
   "file_extension": ".py",
   "mimetype": "text/x-python",
   "name": "python",
   "nbconvert_exporter": "python",
   "pygments_lexer": "ipython3",
   "version": "3.8.5"
  }
 },
 "nbformat": 4,
 "nbformat_minor": 5
}
