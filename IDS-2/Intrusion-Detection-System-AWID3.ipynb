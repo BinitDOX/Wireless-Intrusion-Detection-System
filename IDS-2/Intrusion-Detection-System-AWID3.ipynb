{
 "cells": [
  {
   "cell_type": "markdown",
   "id": "26dd6fdd",
   "metadata": {},
   "source": [
    "# Wireless Intrusion Detection System"
   ]
  },
  {
   "cell_type": "markdown",
   "id": "0d52f387",
   "metadata": {},
   "source": [
    "- Intrusion Detection Systems (IDS) provide means of identifying and possibly responding to a threat in a timely fashion.\n",
    "- Dataset: AWID-3: Format: PCAP, Classes: 13, with SSL-Decryption keys\n",
    "- Dataset Used: Subset AWID-3: Format: Converted to CSV, Classes: 9, without use of SSL-Decryption keys"
   ]
  },
  {
   "cell_type": "markdown",
   "id": "70282008",
   "metadata": {},
   "source": [
    "## Attack Classes:"
   ]
  },
  {
   "cell_type": "markdown",
   "id": "b7fa40c1",
   "metadata": {},
   "source": [
    "1. Association: (Flooding Attack) The association process between the STA and AP takes place after successful open authentication. It involves the exchange of a pair of association request/response frames.\n",
    "2. Deauthentication: It is a DoS attack, that sends disassocate packets to one or more clients which are currently associated with a particular access point.\n",
    "3. Disassociation: Targeted deauthentication attack.\n",
    "4. Evil-Twin: A fraudulent Wi-Fi access point that appears to be legitimate but is set up to eavesdrop on wireless communications.\n",
    "5. Krack: It takes advantage of the fact that retransmissions of either the first or the third message of the 4-way handshake should occur if the AP does not receive message two or four, respectively. Based on this, the attacker acting as a man-in-the-middle (MitM), blocks message four from reaching the AP, thus making the AP willingly re-transmit the same message toward the STA. This would induce a reinstallation of the same Pairwise Transient Key (PTK) / Group Transient Key (GTK) / Integrity Group Temporal Key (IGTK) at the STA side, meaning that as the STA sends its next data frame, the data WPA2 protocol will reuse the nonces transmitted during the original 4-way handshake. By forcing nonce reuse in this manner, the encryption protocol can be attacked, e.g., packets can be replayed, decrypted, and/or forged.\n",
    "6. Krook: It is related to Krack, applies to WPA2 as well, but the attacker is not required to be authenticated and associated to the wireless network. The vulnerability is rooted in the fact that as soon as an STA is disassociated, the TK is cleared in memory, i.e., set to all-zero. While this is normal, it was observed that all data frames left in the Wireless Network Controller's (WNIC) egress queue might be then transmitted while encapsulated with this static all-zero key.\n",
    "7. Rogue AP: Rogue access points that are installed by employees (malicious users or by mistake). In the situation where they are misconfigured or configured without any security, it opens a next attack surface for having easy access to a very secure network\n",
    "8. Spoofing: The assailant clones the front webpage of a popular website, say, Instagram. Then, they perform ARP and DNS spoofng to redirect the users to their fake webpage instead of the original one."
   ]
  },
  {
   "cell_type": "markdown",
   "id": "053cc74f",
   "metadata": {},
   "source": [
    "## Data Loading"
   ]
  },
  {
   "cell_type": "code",
   "execution_count": 1,
   "id": "048efc1b",
   "metadata": {},
   "outputs": [
    {
     "name": "stdout",
     "output_type": "stream",
     "text": [
      "Shape of data:  (1006568, 35)\n"
     ]
    },
    {
     "data": {
      "text/html": [
       "<div>\n",
       "<style scoped>\n",
       "    .dataframe tbody tr th:only-of-type {\n",
       "        vertical-align: middle;\n",
       "    }\n",
       "\n",
       "    .dataframe tbody tr th {\n",
       "        vertical-align: top;\n",
       "    }\n",
       "\n",
       "    .dataframe thead th {\n",
       "        text-align: right;\n",
       "    }\n",
       "</style>\n",
       "<table border=\"1\" class=\"dataframe\">\n",
       "  <thead>\n",
       "    <tr style=\"text-align: right;\">\n",
       "      <th></th>\n",
       "      <th>frame.time_epoch</th>\n",
       "      <th>frame.time_delta</th>\n",
       "      <th>frame.time_delta_displayed</th>\n",
       "      <th>frame.time_relative</th>\n",
       "      <th>frame.len</th>\n",
       "      <th>frame.cap_len</th>\n",
       "      <th>radiotap.length</th>\n",
       "      <th>radiotap.present.tsft</th>\n",
       "      <th>radiotap.present.flags</th>\n",
       "      <th>radiotap.present.channel</th>\n",
       "      <th>...</th>\n",
       "      <th>wlan.fc.protected</th>\n",
       "      <th>wlan.duration</th>\n",
       "      <th>wlan.ra</th>\n",
       "      <th>wlan.da</th>\n",
       "      <th>wlan.ta</th>\n",
       "      <th>wlan.sa</th>\n",
       "      <th>wlan.bssid</th>\n",
       "      <th>wlan.frag</th>\n",
       "      <th>wlan.seq</th>\n",
       "      <th>class</th>\n",
       "    </tr>\n",
       "  </thead>\n",
       "  <tbody>\n",
       "    <tr>\n",
       "      <th>0</th>\n",
       "      <td>1.608311e+09</td>\n",
       "      <td>0.000000</td>\n",
       "      <td>0.000000</td>\n",
       "      <td>0.000000</td>\n",
       "      <td>272</td>\n",
       "      <td>272</td>\n",
       "      <td>56</td>\n",
       "      <td>1,0,0</td>\n",
       "      <td>1,0,0</td>\n",
       "      <td>1,0,0</td>\n",
       "      <td>...</td>\n",
       "      <td>0</td>\n",
       "      <td>60</td>\n",
       "      <td>0c:9d:92:54:fe:34</td>\n",
       "      <td>0c:9d:92:54:fe:34</td>\n",
       "      <td>88:66:a5:55:a2:d4</td>\n",
       "      <td>88:66:a5:55:a2:d4</td>\n",
       "      <td>0c:9d:92:54:fe:34</td>\n",
       "      <td>0.0</td>\n",
       "      <td>1658.0</td>\n",
       "      <td>asso</td>\n",
       "    </tr>\n",
       "    <tr>\n",
       "      <th>1</th>\n",
       "      <td>1.608311e+09</td>\n",
       "      <td>6.945121</td>\n",
       "      <td>6.945121</td>\n",
       "      <td>6.945121</td>\n",
       "      <td>264</td>\n",
       "      <td>264</td>\n",
       "      <td>56</td>\n",
       "      <td>1,0,0</td>\n",
       "      <td>1,0,0</td>\n",
       "      <td>1,0,0</td>\n",
       "      <td>...</td>\n",
       "      <td>0</td>\n",
       "      <td>60</td>\n",
       "      <td>0c:9d:92:54:fe:34</td>\n",
       "      <td>0c:9d:92:54:fe:34</td>\n",
       "      <td>a4:08:ea:2a:9a:01</td>\n",
       "      <td>a4:08:ea:2a:9a:01</td>\n",
       "      <td>0c:9d:92:54:fe:34</td>\n",
       "      <td>0.0</td>\n",
       "      <td>31.0</td>\n",
       "      <td>asso</td>\n",
       "    </tr>\n",
       "    <tr>\n",
       "      <th>2</th>\n",
       "      <td>1.608311e+09</td>\n",
       "      <td>27.464727</td>\n",
       "      <td>27.464727</td>\n",
       "      <td>34.409848</td>\n",
       "      <td>207</td>\n",
       "      <td>207</td>\n",
       "      <td>56</td>\n",
       "      <td>1,0,0</td>\n",
       "      <td>1,0,0</td>\n",
       "      <td>1,0,0</td>\n",
       "      <td>...</td>\n",
       "      <td>0</td>\n",
       "      <td>58</td>\n",
       "      <td>0c:9d:92:54:fe:34</td>\n",
       "      <td>0c:9d:92:54:fe:34</td>\n",
       "      <td>50:3e:aa:e3:1f:be</td>\n",
       "      <td>50:3e:aa:e3:1f:be</td>\n",
       "      <td>0c:9d:92:54:fe:34</td>\n",
       "      <td>0.0</td>\n",
       "      <td>1.0</td>\n",
       "      <td>asso</td>\n",
       "    </tr>\n",
       "    <tr>\n",
       "      <th>3</th>\n",
       "      <td>1.608311e+09</td>\n",
       "      <td>8.909021</td>\n",
       "      <td>8.909021</td>\n",
       "      <td>43.318869</td>\n",
       "      <td>207</td>\n",
       "      <td>207</td>\n",
       "      <td>56</td>\n",
       "      <td>1,0,0</td>\n",
       "      <td>1,0,0</td>\n",
       "      <td>1,0,0</td>\n",
       "      <td>...</td>\n",
       "      <td>0</td>\n",
       "      <td>58</td>\n",
       "      <td>0c:9d:92:54:fe:34</td>\n",
       "      <td>0c:9d:92:54:fe:34</td>\n",
       "      <td>50:3e:aa:e4:01:93</td>\n",
       "      <td>50:3e:aa:e4:01:93</td>\n",
       "      <td>0c:9d:92:54:fe:34</td>\n",
       "      <td>0.0</td>\n",
       "      <td>1.0</td>\n",
       "      <td>asso</td>\n",
       "    </tr>\n",
       "    <tr>\n",
       "      <th>4</th>\n",
       "      <td>1.608311e+09</td>\n",
       "      <td>26.573475</td>\n",
       "      <td>26.573475</td>\n",
       "      <td>69.892344</td>\n",
       "      <td>285</td>\n",
       "      <td>285</td>\n",
       "      <td>56</td>\n",
       "      <td>1,0,0</td>\n",
       "      <td>1,0,0</td>\n",
       "      <td>1,0,0</td>\n",
       "      <td>...</td>\n",
       "      <td>0</td>\n",
       "      <td>60</td>\n",
       "      <td>0c:9d:92:54:fe:34</td>\n",
       "      <td>0c:9d:92:54:fe:34</td>\n",
       "      <td>94:e9:79:82:c5:77</td>\n",
       "      <td>94:e9:79:82:c5:77</td>\n",
       "      <td>0c:9d:92:54:fe:34</td>\n",
       "      <td>0.0</td>\n",
       "      <td>562.0</td>\n",
       "      <td>asso</td>\n",
       "    </tr>\n",
       "  </tbody>\n",
       "</table>\n",
       "<p>5 rows × 35 columns</p>\n",
       "</div>"
      ],
      "text/plain": [
       "   frame.time_epoch  frame.time_delta  frame.time_delta_displayed  \\\n",
       "0      1.608311e+09          0.000000                    0.000000   \n",
       "1      1.608311e+09          6.945121                    6.945121   \n",
       "2      1.608311e+09         27.464727                   27.464727   \n",
       "3      1.608311e+09          8.909021                    8.909021   \n",
       "4      1.608311e+09         26.573475                   26.573475   \n",
       "\n",
       "   frame.time_relative  frame.len  frame.cap_len  radiotap.length  \\\n",
       "0             0.000000        272            272               56   \n",
       "1             6.945121        264            264               56   \n",
       "2            34.409848        207            207               56   \n",
       "3            43.318869        207            207               56   \n",
       "4            69.892344        285            285               56   \n",
       "\n",
       "  radiotap.present.tsft radiotap.present.flags radiotap.present.channel  ...  \\\n",
       "0                 1,0,0                  1,0,0                    1,0,0  ...   \n",
       "1                 1,0,0                  1,0,0                    1,0,0  ...   \n",
       "2                 1,0,0                  1,0,0                    1,0,0  ...   \n",
       "3                 1,0,0                  1,0,0                    1,0,0  ...   \n",
       "4                 1,0,0                  1,0,0                    1,0,0  ...   \n",
       "\n",
       "  wlan.fc.protected wlan.duration            wlan.ra            wlan.da  \\\n",
       "0                 0            60  0c:9d:92:54:fe:34  0c:9d:92:54:fe:34   \n",
       "1                 0            60  0c:9d:92:54:fe:34  0c:9d:92:54:fe:34   \n",
       "2                 0            58  0c:9d:92:54:fe:34  0c:9d:92:54:fe:34   \n",
       "3                 0            58  0c:9d:92:54:fe:34  0c:9d:92:54:fe:34   \n",
       "4                 0            60  0c:9d:92:54:fe:34  0c:9d:92:54:fe:34   \n",
       "\n",
       "             wlan.ta            wlan.sa         wlan.bssid  wlan.frag  \\\n",
       "0  88:66:a5:55:a2:d4  88:66:a5:55:a2:d4  0c:9d:92:54:fe:34        0.0   \n",
       "1  a4:08:ea:2a:9a:01  a4:08:ea:2a:9a:01  0c:9d:92:54:fe:34        0.0   \n",
       "2  50:3e:aa:e3:1f:be  50:3e:aa:e3:1f:be  0c:9d:92:54:fe:34        0.0   \n",
       "3  50:3e:aa:e4:01:93  50:3e:aa:e4:01:93  0c:9d:92:54:fe:34        0.0   \n",
       "4  94:e9:79:82:c5:77  94:e9:79:82:c5:77  0c:9d:92:54:fe:34        0.0   \n",
       "\n",
       "   wlan.seq  class  \n",
       "0    1658.0   asso  \n",
       "1      31.0   asso  \n",
       "2       1.0   asso  \n",
       "3       1.0   asso  \n",
       "4     562.0   asso  \n",
       "\n",
       "[5 rows x 35 columns]"
      ]
     },
     "execution_count": 1,
     "metadata": {},
     "output_type": "execute_result"
    }
   ],
   "source": [
    "import numpy as np\n",
    "import pandas as pd\n",
    "\n",
    "def load_data(file_path):\n",
    "    '''Fuction to load csv data file as dataframe from given file path'''\n",
    "    df = pd.read_csv(file_path, sep='*')\n",
    "    return df\n",
    "\n",
    "df = load_data('data/ReCombined.csv')\n",
    "print('Shape of data: ', df.shape)\n",
    "df.head()"
   ]
  },
  {
   "cell_type": "markdown",
   "id": "cdbf5b95",
   "metadata": {},
   "source": [
    "## Exploratory Data Analysis"
   ]
  },
  {
   "cell_type": "code",
   "execution_count": 2,
   "id": "8cd6d615",
   "metadata": {},
   "outputs": [
    {
     "data": {
      "text/html": [
       "<div>\n",
       "<style scoped>\n",
       "    .dataframe tbody tr th:only-of-type {\n",
       "        vertical-align: middle;\n",
       "    }\n",
       "\n",
       "    .dataframe tbody tr th {\n",
       "        vertical-align: top;\n",
       "    }\n",
       "\n",
       "    .dataframe thead th {\n",
       "        text-align: right;\n",
       "    }\n",
       "</style>\n",
       "<table border=\"1\" class=\"dataframe\">\n",
       "  <thead>\n",
       "    <tr style=\"text-align: right;\">\n",
       "      <th></th>\n",
       "      <th>frame.time_epoch</th>\n",
       "      <th>frame.time_delta</th>\n",
       "      <th>frame.time_delta_displayed</th>\n",
       "      <th>frame.time_relative</th>\n",
       "      <th>frame.len</th>\n",
       "      <th>frame.cap_len</th>\n",
       "      <th>radiotap.length</th>\n",
       "      <th>radiotap.mactime</th>\n",
       "      <th>radiotap.datarate</th>\n",
       "      <th>radiotap.channel.freq</th>\n",
       "      <th>...</th>\n",
       "      <th>wlan.fc.type</th>\n",
       "      <th>wlan.fc.subtype</th>\n",
       "      <th>wlan.fc.frag</th>\n",
       "      <th>wlan.fc.retry</th>\n",
       "      <th>wlan.fc.pwrmgt</th>\n",
       "      <th>wlan.fc.moredata</th>\n",
       "      <th>wlan.fc.protected</th>\n",
       "      <th>wlan.duration</th>\n",
       "      <th>wlan.frag</th>\n",
       "      <th>wlan.seq</th>\n",
       "    </tr>\n",
       "  </thead>\n",
       "  <tbody>\n",
       "    <tr>\n",
       "      <th>count</th>\n",
       "      <td>1.006568e+06</td>\n",
       "      <td>1.006568e+06</td>\n",
       "      <td>1.006568e+06</td>\n",
       "      <td>1.006568e+06</td>\n",
       "      <td>1.006568e+06</td>\n",
       "      <td>1.006568e+06</td>\n",
       "      <td>1.006568e+06</td>\n",
       "      <td>3.748630e+05</td>\n",
       "      <td>406255.000000</td>\n",
       "      <td>1.006568e+06</td>\n",
       "      <td>...</td>\n",
       "      <td>1.006568e+06</td>\n",
       "      <td>1.006568e+06</td>\n",
       "      <td>1.006568e+06</td>\n",
       "      <td>1.006568e+06</td>\n",
       "      <td>1.006568e+06</td>\n",
       "      <td>1.006568e+06</td>\n",
       "      <td>1.006568e+06</td>\n",
       "      <td>1.006568e+06</td>\n",
       "      <td>965126.000000</td>\n",
       "      <td>965126.000000</td>\n",
       "    </tr>\n",
       "    <tr>\n",
       "      <th>mean</th>\n",
       "      <td>1.608262e+09</td>\n",
       "      <td>2.573884e-03</td>\n",
       "      <td>2.573884e-03</td>\n",
       "      <td>1.981829e+02</td>\n",
       "      <td>3.591794e+02</td>\n",
       "      <td>3.591794e+02</td>\n",
       "      <td>6.068403e+01</td>\n",
       "      <td>1.146924e+10</td>\n",
       "      <td>7.565214</td>\n",
       "      <td>5.042779e+03</td>\n",
       "      <td>...</td>\n",
       "      <td>1.310435e+00</td>\n",
       "      <td>8.797593e+00</td>\n",
       "      <td>9.934749e-06</td>\n",
       "      <td>8.452385e-02</td>\n",
       "      <td>2.822462e-03</td>\n",
       "      <td>7.369596e-03</td>\n",
       "      <td>5.329963e-01</td>\n",
       "      <td>9.958258e+01</td>\n",
       "      <td>0.001241</td>\n",
       "      <td>2045.077775</td>\n",
       "    </tr>\n",
       "    <tr>\n",
       "      <th>std</th>\n",
       "      <td>3.879739e+05</td>\n",
       "      <td>3.237289e-01</td>\n",
       "      <td>3.237289e-01</td>\n",
       "      <td>1.281104e+02</td>\n",
       "      <td>5.265594e+02</td>\n",
       "      <td>5.265594e+02</td>\n",
       "      <td>3.950959e+00</td>\n",
       "      <td>3.335258e+09</td>\n",
       "      <td>6.072455</td>\n",
       "      <td>6.002605e+02</td>\n",
       "      <td>...</td>\n",
       "      <td>9.286869e-01</td>\n",
       "      <td>1.460665e+00</td>\n",
       "      <td>3.151930e-03</td>\n",
       "      <td>2.781720e-01</td>\n",
       "      <td>5.305185e-02</td>\n",
       "      <td>8.552949e-02</td>\n",
       "      <td>4.989103e-01</td>\n",
       "      <td>2.383332e+02</td>\n",
       "      <td>0.108054</td>\n",
       "      <td>1193.775009</td>\n",
       "    </tr>\n",
       "    <tr>\n",
       "      <th>min</th>\n",
       "      <td>1.607630e+09</td>\n",
       "      <td>0.000000e+00</td>\n",
       "      <td>0.000000e+00</td>\n",
       "      <td>0.000000e+00</td>\n",
       "      <td>7.000000e+01</td>\n",
       "      <td>7.000000e+01</td>\n",
       "      <td>4.800000e+01</td>\n",
       "      <td>2.559810e+09</td>\n",
       "      <td>1.000000</td>\n",
       "      <td>2.417000e+03</td>\n",
       "      <td>...</td>\n",
       "      <td>0.000000e+00</td>\n",
       "      <td>0.000000e+00</td>\n",
       "      <td>0.000000e+00</td>\n",
       "      <td>0.000000e+00</td>\n",
       "      <td>0.000000e+00</td>\n",
       "      <td>0.000000e+00</td>\n",
       "      <td>0.000000e+00</td>\n",
       "      <td>0.000000e+00</td>\n",
       "      <td>0.000000</td>\n",
       "      <td>0.000000</td>\n",
       "    </tr>\n",
       "    <tr>\n",
       "      <th>25%</th>\n",
       "      <td>1.608061e+09</td>\n",
       "      <td>2.000000e-06</td>\n",
       "      <td>2.000000e-06</td>\n",
       "      <td>8.414084e+01</td>\n",
       "      <td>8.600000e+01</td>\n",
       "      <td>8.600000e+01</td>\n",
       "      <td>5.600000e+01</td>\n",
       "      <td>8.547350e+09</td>\n",
       "      <td>6.000000</td>\n",
       "      <td>5.180000e+03</td>\n",
       "      <td>...</td>\n",
       "      <td>0.000000e+00</td>\n",
       "      <td>8.000000e+00</td>\n",
       "      <td>0.000000e+00</td>\n",
       "      <td>0.000000e+00</td>\n",
       "      <td>0.000000e+00</td>\n",
       "      <td>0.000000e+00</td>\n",
       "      <td>0.000000e+00</td>\n",
       "      <td>4.800000e+01</td>\n",
       "      <td>0.000000</td>\n",
       "      <td>996.000000</td>\n",
       "    </tr>\n",
       "    <tr>\n",
       "      <th>50%</th>\n",
       "      <td>1.608061e+09</td>\n",
       "      <td>1.430000e-04</td>\n",
       "      <td>1.430000e-04</td>\n",
       "      <td>1.618292e+02</td>\n",
       "      <td>1.640000e+02</td>\n",
       "      <td>1.640000e+02</td>\n",
       "      <td>6.400000e+01</td>\n",
       "      <td>8.635766e+09</td>\n",
       "      <td>6.000000</td>\n",
       "      <td>5.180000e+03</td>\n",
       "      <td>...</td>\n",
       "      <td>2.000000e+00</td>\n",
       "      <td>8.000000e+00</td>\n",
       "      <td>0.000000e+00</td>\n",
       "      <td>0.000000e+00</td>\n",
       "      <td>0.000000e+00</td>\n",
       "      <td>0.000000e+00</td>\n",
       "      <td>1.000000e+00</td>\n",
       "      <td>4.800000e+01</td>\n",
       "      <td>0.000000</td>\n",
       "      <td>2038.000000</td>\n",
       "    </tr>\n",
       "    <tr>\n",
       "      <th>75%</th>\n",
       "      <td>1.608310e+09</td>\n",
       "      <td>6.360000e-04</td>\n",
       "      <td>6.360000e-04</td>\n",
       "      <td>3.199087e+02</td>\n",
       "      <td>1.640000e+02</td>\n",
       "      <td>1.640000e+02</td>\n",
       "      <td>6.400000e+01</td>\n",
       "      <td>1.530370e+10</td>\n",
       "      <td>6.000000</td>\n",
       "      <td>5.180000e+03</td>\n",
       "      <td>...</td>\n",
       "      <td>2.000000e+00</td>\n",
       "      <td>1.000000e+01</td>\n",
       "      <td>0.000000e+00</td>\n",
       "      <td>0.000000e+00</td>\n",
       "      <td>0.000000e+00</td>\n",
       "      <td>0.000000e+00</td>\n",
       "      <td>1.000000e+00</td>\n",
       "      <td>8.400000e+01</td>\n",
       "      <td>0.000000</td>\n",
       "      <td>3120.000000</td>\n",
       "    </tr>\n",
       "    <tr>\n",
       "      <th>max</th>\n",
       "      <td>1.609010e+09</td>\n",
       "      <td>3.209698e+02</td>\n",
       "      <td>3.209698e+02</td>\n",
       "      <td>5.932613e+02</td>\n",
       "      <td>2.527000e+03</td>\n",
       "      <td>2.527000e+03</td>\n",
       "      <td>6.400000e+01</td>\n",
       "      <td>2.244090e+10</td>\n",
       "      <td>144.444000</td>\n",
       "      <td>5.180000e+03</td>\n",
       "      <td>...</td>\n",
       "      <td>2.000000e+00</td>\n",
       "      <td>1.400000e+01</td>\n",
       "      <td>1.000000e+00</td>\n",
       "      <td>1.000000e+00</td>\n",
       "      <td>1.000000e+00</td>\n",
       "      <td>1.000000e+00</td>\n",
       "      <td>1.000000e+00</td>\n",
       "      <td>3.076800e+04</td>\n",
       "      <td>15.000000</td>\n",
       "      <td>4095.000000</td>\n",
       "    </tr>\n",
       "  </tbody>\n",
       "</table>\n",
       "<p>8 rows × 21 columns</p>\n",
       "</div>"
      ],
      "text/plain": [
       "       frame.time_epoch  frame.time_delta  frame.time_delta_displayed  \\\n",
       "count      1.006568e+06      1.006568e+06                1.006568e+06   \n",
       "mean       1.608262e+09      2.573884e-03                2.573884e-03   \n",
       "std        3.879739e+05      3.237289e-01                3.237289e-01   \n",
       "min        1.607630e+09      0.000000e+00                0.000000e+00   \n",
       "25%        1.608061e+09      2.000000e-06                2.000000e-06   \n",
       "50%        1.608061e+09      1.430000e-04                1.430000e-04   \n",
       "75%        1.608310e+09      6.360000e-04                6.360000e-04   \n",
       "max        1.609010e+09      3.209698e+02                3.209698e+02   \n",
       "\n",
       "       frame.time_relative     frame.len  frame.cap_len  radiotap.length  \\\n",
       "count         1.006568e+06  1.006568e+06   1.006568e+06     1.006568e+06   \n",
       "mean          1.981829e+02  3.591794e+02   3.591794e+02     6.068403e+01   \n",
       "std           1.281104e+02  5.265594e+02   5.265594e+02     3.950959e+00   \n",
       "min           0.000000e+00  7.000000e+01   7.000000e+01     4.800000e+01   \n",
       "25%           8.414084e+01  8.600000e+01   8.600000e+01     5.600000e+01   \n",
       "50%           1.618292e+02  1.640000e+02   1.640000e+02     6.400000e+01   \n",
       "75%           3.199087e+02  1.640000e+02   1.640000e+02     6.400000e+01   \n",
       "max           5.932613e+02  2.527000e+03   2.527000e+03     6.400000e+01   \n",
       "\n",
       "       radiotap.mactime  radiotap.datarate  radiotap.channel.freq  ...  \\\n",
       "count      3.748630e+05      406255.000000           1.006568e+06  ...   \n",
       "mean       1.146924e+10           7.565214           5.042779e+03  ...   \n",
       "std        3.335258e+09           6.072455           6.002605e+02  ...   \n",
       "min        2.559810e+09           1.000000           2.417000e+03  ...   \n",
       "25%        8.547350e+09           6.000000           5.180000e+03  ...   \n",
       "50%        8.635766e+09           6.000000           5.180000e+03  ...   \n",
       "75%        1.530370e+10           6.000000           5.180000e+03  ...   \n",
       "max        2.244090e+10         144.444000           5.180000e+03  ...   \n",
       "\n",
       "       wlan.fc.type  wlan.fc.subtype  wlan.fc.frag  wlan.fc.retry  \\\n",
       "count  1.006568e+06     1.006568e+06  1.006568e+06   1.006568e+06   \n",
       "mean   1.310435e+00     8.797593e+00  9.934749e-06   8.452385e-02   \n",
       "std    9.286869e-01     1.460665e+00  3.151930e-03   2.781720e-01   \n",
       "min    0.000000e+00     0.000000e+00  0.000000e+00   0.000000e+00   \n",
       "25%    0.000000e+00     8.000000e+00  0.000000e+00   0.000000e+00   \n",
       "50%    2.000000e+00     8.000000e+00  0.000000e+00   0.000000e+00   \n",
       "75%    2.000000e+00     1.000000e+01  0.000000e+00   0.000000e+00   \n",
       "max    2.000000e+00     1.400000e+01  1.000000e+00   1.000000e+00   \n",
       "\n",
       "       wlan.fc.pwrmgt  wlan.fc.moredata  wlan.fc.protected  wlan.duration  \\\n",
       "count    1.006568e+06      1.006568e+06       1.006568e+06   1.006568e+06   \n",
       "mean     2.822462e-03      7.369596e-03       5.329963e-01   9.958258e+01   \n",
       "std      5.305185e-02      8.552949e-02       4.989103e-01   2.383332e+02   \n",
       "min      0.000000e+00      0.000000e+00       0.000000e+00   0.000000e+00   \n",
       "25%      0.000000e+00      0.000000e+00       0.000000e+00   4.800000e+01   \n",
       "50%      0.000000e+00      0.000000e+00       1.000000e+00   4.800000e+01   \n",
       "75%      0.000000e+00      0.000000e+00       1.000000e+00   8.400000e+01   \n",
       "max      1.000000e+00      1.000000e+00       1.000000e+00   3.076800e+04   \n",
       "\n",
       "           wlan.frag       wlan.seq  \n",
       "count  965126.000000  965126.000000  \n",
       "mean        0.001241    2045.077775  \n",
       "std         0.108054    1193.775009  \n",
       "min         0.000000       0.000000  \n",
       "25%         0.000000     996.000000  \n",
       "50%         0.000000    2038.000000  \n",
       "75%         0.000000    3120.000000  \n",
       "max        15.000000    4095.000000  \n",
       "\n",
       "[8 rows x 21 columns]"
      ]
     },
     "execution_count": 2,
     "metadata": {},
     "output_type": "execute_result"
    }
   ],
   "source": [
    "df.describe()"
   ]
  },
  {
   "cell_type": "markdown",
   "id": "b812bdb8",
   "metadata": {},
   "source": [
    "### Class Distribution"
   ]
  },
  {
   "cell_type": "code",
   "execution_count": 3,
   "id": "c2d2c855",
   "metadata": {},
   "outputs": [
    {
     "data": {
      "image/png": "[encoded data removed]",
      "text/plain": [
       "<Figure size 720x576 with 1 Axes>"
      ]
     },
     "metadata": {
      "needs_background": "light"
     },
     "output_type": "display_data"
    },
    {
     "name": "stdout",
     "output_type": "stream",
     "text": [
      "{'asso': 5511, 'deauth': 38942, 'disass': 75131, 'evil': 104351, 'krack': 49990, 'krook': 191803, 'normal': 44056, 'rogue': 1310, 'spoof': 495474}\n"
     ]
    }
   ],
   "source": [
    "from matplotlib import pyplot as plt\n",
    "import seaborn as sns\n",
    "\n",
    "def class_distrib(df):\n",
    "    '''This function displays class distribution as a bar plot for the given dataframe'''\n",
    "    unique, counts = np.unique(df['class'], return_counts=True)\n",
    "    distrib = dict(zip(unique, counts))\n",
    "\n",
    "    plt.figure(figsize=(10, 8))\n",
    "    sns.barplot(x=list(distrib.keys()), y=list(distrib.values()))\n",
    "    plt.title(\"Class Distribution\")\n",
    "    plt.xticks(rotation=45)\n",
    "    plt.xlabel(\"Classes\")\n",
    "    plt.ylabel(\"Count\")\n",
    "\n",
    "    plt.show()\n",
    "    print(distrib)\n",
    "    \n",
    "class_distrib(df)"
   ]
  },
  {
   "cell_type": "markdown",
   "id": "075c3bd9",
   "metadata": {},
   "source": [
    "- This is unbalanced data, we need to downsample the majority class"
   ]
  },
  {
   "cell_type": "markdown",
   "id": "9e5a0b1a",
   "metadata": {},
   "source": [
    "### Subset majority class"
   ]
  },
  {
   "cell_type": "code",
   "execution_count": 4,
   "id": "19574224",
   "metadata": {},
   "outputs": [
    {
     "data": {
      "image/png": "[encoded data removed]",
      "text/plain": [
       "<Figure size 720x576 with 1 Axes>"
      ]
     },
     "metadata": {
      "needs_background": "light"
     },
     "output_type": "display_data"
    },
    {
     "name": "stdout",
     "output_type": "stream",
     "text": [
      "{'asso': 5511, 'deauth': 38942, 'disass': 75131, 'evil': 104351, 'krack': 49990, 'krook': 191803, 'normal': 44056, 'rogue': 1310, 'spoof': 199900}\n"
     ]
    }
   ],
   "source": [
    "def subset_sample(df, class_name, n):\n",
    "    '''This function extracts n range subset from the given dataframe for the given input class'''\n",
    "    df_maj = df[df['class'] == class_name]\n",
    "    df = df[df['class'] != class_name]\n",
    "\n",
    "    df_maj = df_maj[100 : n]\n",
    "\n",
    "    df = pd.concat([df_maj, df], axis=0)\n",
    "\n",
    "    return df\n",
    "\n",
    "df = subset_sample(df, 'spoof', 200000)\n",
    "class_distrib(df)"
   ]
  },
  {
   "cell_type": "markdown",
   "id": "952d32f1",
   "metadata": {},
   "source": [
    "### Shallow cleaning"
   ]
  },
  {
   "cell_type": "code",
   "execution_count": 4,
   "id": "c7340235",
   "metadata": {},
   "outputs": [
    {
     "name": "stdout",
     "output_type": "stream",
     "text": [
      "All class rows which still have some NaN value:  378450\n",
      "Normal class rows which still have some NaN value:  39852\n"
     ]
    },
    {
     "name": "stderr",
     "output_type": "stream",
     "text": [
      "<ipython-input-4-96976fefc985>:5: UserWarning: Boolean Series key will be reindexed to match DataFrame index.\n",
      "  df_nan_rows_normal = df[df.isnull().any(axis=1)][df['class'] == 'normal']\n"
     ]
    }
   ],
   "source": [
    "# Rows which still have some NaN value \n",
    "df_nan_rows = df[df.isnull().any(axis=1)]\n",
    "print('All class rows which still have some NaN value: ', len(df_nan_rows))\n",
    "\n",
    "df_nan_rows_normal = df[df.isnull().any(axis=1)][df['class'] == 'normal']\n",
    "print('Normal class rows which still have some NaN value: ', len(df_nan_rows_normal))"
   ]
  },
  {
   "cell_type": "code",
   "execution_count": 5,
   "id": "0b5843c3",
   "metadata": {},
   "outputs": [
    {
     "name": "stdout",
     "output_type": "stream",
     "text": [
      "Columns removed: {'radiotap.present.dbm_antsignal', 'radiotap.present.channel', 'radiotap.present.flags', 'radiotap.present.antenna', 'radiotap.present.rxflags'}\n"
     ]
    }
   ],
   "source": [
    "def shallow_clean(df):\n",
    "    '''Cleans the the given dataframe at a shallow level'''\n",
    "    # Remove columns with >= 85% NaNs\n",
    "    thres_limit = len(df) * 0.25\n",
    "    df = df.dropna(thresh=int(thres_limit), axis=1)\n",
    "\n",
    "    # Remove columns with constant value\n",
    "    df = df.drop(columns=df.columns[df.nunique()==1])\n",
    "\n",
    "    # Remove rows with >= 50% NaNs\n",
    "    thres_limit = df.shape[1] * 0.50\n",
    "    df = df.dropna(thresh=int(thres_limit), axis=0)\n",
    "    \n",
    "    return df\n",
    "\n",
    "cols_before = set(df.columns)\n",
    "df = shallow_clean(df)\n",
    "cols_after = set(df.columns)\n",
    "print('Columns removed:', cols_before - cols_after)"
   ]
  },
  {
   "cell_type": "code",
   "execution_count": 6,
   "id": "38a38ba4",
   "metadata": {},
   "outputs": [
    {
     "data": {
      "text/plain": [
       "frame.time_epoch              False\n",
       "frame.time_delta              False\n",
       "frame.time_delta_displayed    False\n",
       "frame.time_relative           False\n",
       "frame.len                     False\n",
       "frame.cap_len                 False\n",
       "radiotap.length               False\n",
       "radiotap.present.tsft         False\n",
       "radiotap.mactime               True\n",
       "radiotap.datarate              True\n",
       "radiotap.channel.freq         False\n",
       "radiotap.dbm_antsignal        False\n",
       "wlan.fc.type_subtype          False\n",
       "wlan.fc.type                  False\n",
       "wlan.fc.subtype               False\n",
       "wlan.fc.ds                    False\n",
       "wlan.fc.frag                  False\n",
       "wlan.fc.retry                 False\n",
       "wlan.fc.pwrmgt                False\n",
       "wlan.fc.moredata              False\n",
       "wlan.fc.protected             False\n",
       "wlan.duration                 False\n",
       "wlan.ra                       False\n",
       "wlan.da                        True\n",
       "wlan.ta                        True\n",
       "wlan.sa                        True\n",
       "wlan.bssid                     True\n",
       "wlan.frag                      True\n",
       "wlan.seq                       True\n",
       "class                         False\n",
       "dtype: bool"
      ]
     },
     "execution_count": 6,
     "metadata": {},
     "output_type": "execute_result"
    }
   ],
   "source": [
    "df.isna().any()"
   ]
  },
  {
   "cell_type": "code",
   "execution_count": 7,
   "id": "dfff11ab",
   "metadata": {},
   "outputs": [
    {
     "data": {
      "text/plain": [
       "frame.time_epoch              float64\n",
       "frame.time_delta              float64\n",
       "frame.time_delta_displayed    float64\n",
       "frame.time_relative           float64\n",
       "frame.len                       int64\n",
       "frame.cap_len                   int64\n",
       "radiotap.length                 int64\n",
       "radiotap.present.tsft          object\n",
       "radiotap.mactime              float64\n",
       "radiotap.datarate             float64\n",
       "radiotap.channel.freq           int64\n",
       "radiotap.dbm_antsignal         object\n",
       "wlan.fc.type_subtype            int64\n",
       "wlan.fc.type                    int64\n",
       "wlan.fc.subtype                 int64\n",
       "wlan.fc.ds                     object\n",
       "wlan.fc.frag                    int64\n",
       "wlan.fc.retry                   int64\n",
       "wlan.fc.pwrmgt                  int64\n",
       "wlan.fc.moredata                int64\n",
       "wlan.fc.protected               int64\n",
       "wlan.duration                   int64\n",
       "wlan.ra                        object\n",
       "wlan.da                        object\n",
       "wlan.ta                        object\n",
       "wlan.sa                        object\n",
       "wlan.bssid                     object\n",
       "wlan.frag                     float64\n",
       "wlan.seq                      float64\n",
       "class                          object\n",
       "dtype: object"
      ]
     },
     "execution_count": 7,
     "metadata": {},
     "output_type": "execute_result"
    }
   ],
   "source": [
    "df.dtypes"
   ]
  },
  {
   "cell_type": "markdown",
   "id": "274b950b",
   "metadata": {},
   "source": [
    "## Pre-processing"
   ]
  },
  {
   "cell_type": "markdown",
   "id": "f4b020b2",
   "metadata": {},
   "source": [
    "### Replace NaNs"
   ]
  },
  {
   "cell_type": "code",
   "execution_count": 8,
   "id": "d0037cd5",
   "metadata": {},
   "outputs": [
    {
     "data": {
      "image/png": "[encoded data removed]",
      "text/plain": [
       "<Figure size 1080x864 with 1 Axes>"
      ]
     },
     "metadata": {
      "needs_background": "light"
     },
     "output_type": "display_data"
    },
    {
     "name": "stdout",
     "output_type": "stream",
     "text": [
      "{'evil': 100554, 'krack': 39004, 'normal': 39852, 'spoof': 199040}\n"
     ]
    }
   ],
   "source": [
    "class_distrib(df_nan_rows)"
   ]
  },
  {
   "cell_type": "code",
   "execution_count": 9,
   "id": "0bbf6055",
   "metadata": {},
   "outputs": [
    {
     "data": {
      "text/plain": [
       "[]"
      ]
     },
     "execution_count": 9,
     "metadata": {},
     "output_type": "execute_result"
    }
   ],
   "source": [
    "#Fill the NULL values\n",
    "num_nan_cols = ['radiotap.mactime', 'radiotap.datarate', 'wlan.frag', 'wlan.seq']\n",
    "for c in num_nan_cols:\n",
    "    df[c].fillna(value=df[c].mean(), inplace=True)\n",
    "    \n",
    "cat_nan_cols = ['wlan.ra', 'wlan.da', 'wlan.ta', 'wlan.bssid', 'wlan.sa']\n",
    "for c in cat_nan_cols:\n",
    "    df[c].fillna(value='null', inplace=True)\n",
    "    \n",
    "df.columns[df.isna().any()].tolist()"
   ]
  },
  {
   "cell_type": "markdown",
   "id": "15d714cb",
   "metadata": {},
   "source": [
    "### Analyzing object type data"
   ]
  },
  {
   "cell_type": "code",
   "execution_count": 10,
   "id": "4ca71c9a",
   "metadata": {
    "scrolled": true
   },
   "outputs": [
    {
     "name": "stdout",
     "output_type": "stream",
     "text": [
      "Unique category counts: \n",
      "radiotap.present.tsft => 2\n",
      "radiotap.dbm_antsignal => 1192\n",
      "wlan.fc.ds => 4\n",
      "wlan.ra => 382\n",
      "wlan.da => 483\n",
      "wlan.ta => 432\n",
      "wlan.sa => 463\n",
      "wlan.bssid => 323\n",
      "class => 9\n"
     ]
    }
   ],
   "source": [
    "object_cols = list(df.select_dtypes(['object']))\n",
    "print('Unique category counts: ')\n",
    "for c in object_cols:\n",
    "    print(c, '=>', df[c].value_counts().count())"
   ]
  },
  {
   "cell_type": "code",
   "execution_count": 11,
   "id": "8b1dbcef",
   "metadata": {},
   "outputs": [],
   "source": [
    "cols_drop = ['wlan.da', 'wlan.ra', 'wlan.ta', 'wlan.sa', 'wlan.bssid', 'radiotap.dbm_antsignal']\n",
    "df = df.drop(cols_drop, axis=1)"
   ]
  },
  {
   "cell_type": "code",
   "execution_count": 12,
   "id": "91683400",
   "metadata": {},
   "outputs": [],
   "source": [
    "# Save processed data to file\n",
    "df.to_csv('data/train_processed_1.csv', index=False)"
   ]
  },
  {
   "cell_type": "code",
   "execution_count": 13,
   "id": "5af149bf",
   "metadata": {},
   "outputs": [],
   "source": [
    "# Load processed data to df\n",
    "# df = pd.read_csv('data/train_processed_1.csv')"
   ]
  },
  {
   "cell_type": "markdown",
   "id": "90585e2c",
   "metadata": {},
   "source": [
    "### Standardizing"
   ]
  },
  {
   "cell_type": "code",
   "execution_count": 13,
   "id": "322ae152",
   "metadata": {},
   "outputs": [],
   "source": [
    "X = df.drop(['class'], axis=1)\n",
    "y = df['class']"
   ]
  },
  {
   "cell_type": "code",
   "execution_count": 14,
   "id": "99e8339f",
   "metadata": {},
   "outputs": [
    {
     "data": {
      "text/plain": [
       "['scaler_save/scaler.gz']"
      ]
     },
     "execution_count": 14,
     "metadata": {},
     "output_type": "execute_result"
    }
   ],
   "source": [
    "from sklearn.preprocessing import StandardScaler\n",
    "import joblib\n",
    "\n",
    "std_cols = ['frame.time_epoch', 'frame.time_delta', 'frame.time_delta_displayed', 'frame.time_relative', 'frame.len',\n",
    "           'frame.cap_len', 'radiotap.length', 'radiotap.mactime', 'radiotap.datarate', 'radiotap.channel.freq',\n",
    "           'wlan.duration', 'wlan.frag', 'wlan.seq']\n",
    "with open('scaler_save/columns.txt', 'w') as f:\n",
    "    [f.write(c+'\\n') for c in std_cols]\n",
    "\n",
    "standard_scaler = StandardScaler()\n",
    "X[std_cols] = standard_scaler.fit_transform(X[std_cols])\n",
    "\n",
    "# Save this scalar to file\n",
    "joblib.dump(standard_scaler, 'scaler_save/scaler.gz')"
   ]
  },
  {
   "cell_type": "markdown",
   "id": "ec4c3559",
   "metadata": {},
   "source": [
    "### One-hot encoding (BoW)"
   ]
  },
  {
   "cell_type": "code",
   "execution_count": 15,
   "id": "4dc5478c",
   "metadata": {},
   "outputs": [
    {
     "data": {
      "text/plain": [
       "['encoder_save/encoder.gz']"
      ]
     },
     "execution_count": 15,
     "metadata": {},
     "output_type": "execute_result"
    }
   ],
   "source": [
    "from sklearn.preprocessing import OneHotEncoder\n",
    "\n",
    "enc_cols = ['wlan.fc.type_subtype', 'wlan.fc.type', 'wlan.fc.subtype', 'wlan.fc.ds', 'radiotap.present.tsft']\n",
    "\n",
    "with open('encoder_save/columns.txt', 'w') as f:\n",
    "    [f.write(c+'\\n') for c in enc_cols]\n",
    "    \n",
    "oh_encoder_x = OneHotEncoder(sparse=False, handle_unknown='ignore')\n",
    "array_ohe = oh_encoder_x.fit_transform(X[enc_cols])\n",
    "df_ohe = pd.DataFrame(array_ohe, index=df.index)\n",
    "\n",
    "#Extract only the columns that didnt need to be encoded\n",
    "df_other = X.drop(columns=enc_cols)\n",
    "\n",
    "#Concatenate the two dataframes : \n",
    "X = pd.concat([df_ohe, df_other], axis=1)\n",
    "\n",
    "# Save this encoder to file\n",
    "joblib.dump(oh_encoder_x, 'encoder_save/encoder.gz')"
   ]
  },
  {
   "cell_type": "code",
   "execution_count": 16,
   "id": "442e37de",
   "metadata": {},
   "outputs": [
    {
     "name": "stdout",
     "output_type": "stream",
     "text": [
      "Shape of y before encoding:  (710994,)\n",
      "ReShape of y for encoding:  (710994, 1)\n",
      "Shape of y after encoding:  (710994, 9)\n"
     ]
    }
   ],
   "source": [
    "print('Shape of y before encoding: ', y.shape)\n",
    "print('ReShape of y for encoding: ', y.values.reshape(-1, 1).shape)\n",
    "\n",
    "oh_encoder_y = OneHotEncoder(handle_unknown='ignore', sparse=False)\n",
    "y_categorical = oh_encoder_y.fit_transform(y.values.reshape(-1, 1))\n",
    "print('Shape of y after encoding: ', y_categorical.shape)"
   ]
  },
  {
   "cell_type": "code",
   "execution_count": 17,
   "id": "fb6e3acd",
   "metadata": {},
   "outputs": [
    {
     "data": {
      "text/plain": [
       "((710994, 24), (710994, 64), (710994,), (710994, 9))"
      ]
     },
     "execution_count": 17,
     "metadata": {},
     "output_type": "execute_result"
    }
   ],
   "source": [
    "df.shape, X.shape, y.shape, y_categorical.shape"
   ]
  },
  {
   "cell_type": "markdown",
   "id": "b7232ac8",
   "metadata": {},
   "source": [
    "### Dataframe to time series"
   ]
  },
  {
   "cell_type": "code",
   "execution_count": 20,
   "id": "c85796f0",
   "metadata": {},
   "outputs": [
    {
     "data": {
      "text/plain": [
       "(710984, 10, 64)"
      ]
     },
     "execution_count": 20,
     "metadata": {},
     "output_type": "execute_result"
    }
   ],
   "source": [
    "def time_series(X, chunk_size):\n",
    "    si = chunk_size\n",
    "    ei = len(X)\n",
    "    \n",
    "    data = []\n",
    "\n",
    "    for i in range(si, ei):\n",
    "        idx = range(i - chunk_size, i, 1)\n",
    "        data.append(X[idx])\n",
    "\n",
    "    data = np.array(data)\n",
    "    return data\n",
    "\n",
    "chunk_size = 10\n",
    "X_time = time_series(X.values, chunk_size)\n",
    "X_time.shape"
   ]
  },
  {
   "cell_type": "markdown",
   "id": "0d1e6eae",
   "metadata": {},
   "source": [
    "### Test train split"
   ]
  },
  {
   "cell_type": "code",
   "execution_count": 21,
   "id": "b02f3111",
   "metadata": {},
   "outputs": [],
   "source": [
    "from sklearn.model_selection import train_test_split\n",
    "\n",
    "X_train, X_val, y_train, y_val = train_test_split(X_time, y_categorical[chunk_size:], test_size=0.33, stratify=y[chunk_size:])\n",
    "X_val, X_test, y_val, y_test = train_test_split(X_val, y_val, test_size=0.33, stratify=y_val)"
   ]
  },
  {
   "cell_type": "markdown",
   "id": "fcea146a",
   "metadata": {},
   "source": [
    "### Write relevant features to file"
   ]
  },
  {
   "cell_type": "code",
   "execution_count": 22,
   "id": "594c75af",
   "metadata": {},
   "outputs": [],
   "source": [
    "relevant_columns = df.columns\n",
    "with open('data/relevant_columns.txt', 'w') as f:\n",
    "    [f.write(rc+'\\n') for rc in relevant_columns]"
   ]
  },
  {
   "cell_type": "markdown",
   "id": "6402d41a",
   "metadata": {},
   "source": [
    "### Writing class labels to file"
   ]
  },
  {
   "cell_type": "code",
   "execution_count": 23,
   "id": "b6381b93",
   "metadata": {},
   "outputs": [],
   "source": [
    "class_labels = oh_encoder_y.categories_[0]\n",
    "with open('data/class_labels.txt', 'w') as f:\n",
    "    [f.write(cl+'\\n') for cl in class_labels]"
   ]
  },
  {
   "cell_type": "code",
   "execution_count": 24,
   "id": "be0a701d",
   "metadata": {},
   "outputs": [
    {
     "data": {
      "text/plain": [
       "(10, 64)"
      ]
     },
     "execution_count": 24,
     "metadata": {},
     "output_type": "execute_result"
    }
   ],
   "source": [
    "X_train.shape[1:3]"
   ]
  },
  {
   "cell_type": "markdown",
   "id": "94f4e51d",
   "metadata": {},
   "source": [
    "## Deep Learning Model"
   ]
  },
  {
   "cell_type": "markdown",
   "id": "4d95ddc2",
   "metadata": {},
   "source": [
    "### Model definition"
   ]
  },
  {
   "cell_type": "code",
   "execution_count": 25,
   "id": "c344e6bf",
   "metadata": {},
   "outputs": [
    {
     "name": "stdout",
     "output_type": "stream",
     "text": [
      "Model: \"model\"\n",
      "_________________________________________________________________\n",
      "Layer (type)                 Output Shape              Param #   \n",
      "=================================================================\n",
      "input_1 (InputLayer)         [(None, 10, 64)]          0         \n",
      "_________________________________________________________________\n",
      "gru (GRU)                    (None, 16)                3936      \n",
      "_________________________________________________________________\n",
      "dense (Dense)                (None, 16)                272       \n",
      "_________________________________________________________________\n",
      "dense_1 (Dense)              (None, 32)                544       \n",
      "_________________________________________________________________\n",
      "dense_2 (Dense)              (None, 9)                 297       \n",
      "=================================================================\n",
      "Total params: 5,049\n",
      "Trainable params: 5,049\n",
      "Non-trainable params: 0\n",
      "_________________________________________________________________\n"
     ]
    }
   ],
   "source": [
    "import tensorflow as tf\n",
    "from tensorflow.keras import layers\n",
    "from tensorflow.keras.models import Model\n",
    "\n",
    "def create_model(input_shape, n_class):\n",
    "    \"\"\"This function creates a simple DL model\"\"\"\n",
    "    input_layer = tf.keras.Input(shape=(input_shape))\n",
    "    \n",
    "    gru_layer = layers.GRU(16, return_sequences=False)(input_layer)\n",
    "    \n",
    "    dense_layer1 = layers.Dense(16, activation='relu')(gru_layer)\n",
    "    dense_layer2 = layers.Dense(32, activation='relu')(dense_layer1)\n",
    "    \n",
    "    output_layer = layers.Dense(n_class, activation='softmax')(dense_layer2)\n",
    "    return Model(input_layer, output_layer)\n",
    "    \n",
    "model = create_model(X_train.shape[1:3], len(oh_encoder_y.categories_[0]))\n",
    "\n",
    "model.summary()"
   ]
  },
  {
   "cell_type": "markdown",
   "id": "9353580b",
   "metadata": {},
   "source": [
    "### Setting model optimizers and callbacks"
   ]
  },
  {
   "cell_type": "code",
   "execution_count": 26,
   "id": "d0be693e",
   "metadata": {},
   "outputs": [],
   "source": [
    "model.compile(loss='categorical_crossentropy', optimizer=tf.keras.optimizers.Adam(learning_rate=0.001), metrics=['accuracy'])"
   ]
  },
  {
   "cell_type": "code",
   "execution_count": 27,
   "id": "18bec662",
   "metadata": {},
   "outputs": [],
   "source": [
    "from tensorflow.keras.callbacks import ModelCheckpoint, EarlyStopping, TensorBoard\n",
    "%load_ext tensorboard\n",
    "\n",
    "log_dir=\"tensorboard\\\\logs\"\n",
    "tensorboard = TensorBoard(log_dir=log_dir, histogram_freq=1, write_graph=True)\n",
    "\n",
    "checkpoint = ModelCheckpoint(filepath='model_save/best_model.h5', monitor='val_accuracy',\n",
    "                             verbose=1, save_best_only=True, mode='auto')\n",
    "\n",
    "earlystop = EarlyStopping(monitor='val_accuracy', min_delta=0.0001, patience=4, verbose=1)"
   ]
  },
  {
   "cell_type": "markdown",
   "id": "a58689b9",
   "metadata": {},
   "source": [
    "### Model training"
   ]
  },
  {
   "cell_type": "code",
   "execution_count": null,
   "id": "765303cc",
   "metadata": {
    "scrolled": false
   },
   "outputs": [
    {
     "name": "stdout",
     "output_type": "stream",
     "text": [
      "Epoch 1/5\n",
      "1317/3722 [=========>....................] - ETA: 11s - loss: 0.1303 - accuracy: 0.9629"
     ]
    }
   ],
   "source": [
    "history = model.fit(X_train, y_train, epochs=5, validation_data=(X_val, y_val),\n",
    "              batch_size=128, callbacks=[checkpoint, earlystop, tensorboard])"
   ]
  },
  {
   "cell_type": "markdown",
   "id": "6f6ff2dd",
   "metadata": {},
   "source": [
    "### Model performance"
   ]
  },
  {
   "cell_type": "code",
   "execution_count": 28,
   "id": "6bd31d99",
   "metadata": {},
   "outputs": [
    {
     "data": {
      "image/png": "[encoded data removed]",
      "text/plain": [
       "<Figure size 432x288 with 1 Axes>"
      ]
     },
     "metadata": {
      "needs_background": "light"
     },
     "output_type": "display_data"
    }
   ],
   "source": [
    "plt.plot(history.history['accuracy'])\n",
    "plt.plot(history.history['val_accuracy'])\n",
    "plt.title('Model Accuracy')\n",
    "plt.ylabel('Accuracy')\n",
    "plt.xlabel('Epoch')\n",
    "plt.legend(['Train', 'Validation'])\n",
    "plt.show()"
   ]
  },
  {
   "cell_type": "markdown",
   "id": "2fa31c8d",
   "metadata": {},
   "source": [
    "### Model results"
   ]
  },
  {
   "cell_type": "code",
   "execution_count": 29,
   "id": "f2cb58d6",
   "metadata": {},
   "outputs": [],
   "source": [
    "from sklearn.metrics import confusion_matrix, classification_report\n",
    "\n",
    "y_preds_val = np.argmax(model.predict(X_val), axis=1)\n",
    "y_val = np.argmax(y_val, axis=1)\n",
    "y_preds_test = np.argmax(model.predict(X_test), axis=1)\n",
    "y_test = np.argmax(y_test, axis=1)\n",
    "y_preds_train = np.argmax(model.predict(X_train), axis=1)\n",
    "y_train = np.argmax(y_train, axis=1)\n",
    "\n",
    "with open('data/class_labels.txt', 'r') as f:\n",
    "    class_labels = np.array([line.strip() for line in f])\n",
    "\n",
    "cm_val = confusion_matrix(class_labels[y_val], class_labels[y_preds_val])\n",
    "cm_test = confusion_matrix(class_labels[y_test], class_labels[y_preds_test])\n",
    "cm_train = confusion_matrix(class_labels[y_train], class_labels[y_preds_train])\n",
    "\n",
    "df_cm_val = pd.DataFrame(cm_val, columns=class_labels, index=class_labels)\n",
    "df_cm_train = pd.DataFrame(cm_train, columns=class_labels, index=class_labels)\n",
    "df_cm_test = pd.DataFrame(cm_test, columns=class_labels, index=class_labels)\n",
    "df_cm_val.index.name = df_cm_train.index.name = df_cm_test.index.name = 'Actual'\n",
    "df_cm_val.columns.name = df_cm_train.columns.name = df_cm_test.columns.name = 'Predicted'"
   ]
  },
  {
   "cell_type": "code",
   "execution_count": 30,
   "id": "b1a69c34",
   "metadata": {},
   "outputs": [
    {
     "data": {
      "image/png": "[encoded data removed]",
      "text/plain": [
       "<Figure size 1008x1728 with 6 Axes>"
      ]
     },
     "metadata": {
      "needs_background": "light"
     },
     "output_type": "display_data"
    }
   ],
   "source": [
    "fig = plt.figure(figsize = (14, 24))\n",
    "\n",
    "fig.add_subplot(3, 1, 1)\n",
    "sp2 = sns.heatmap(df_cm_train, cmap=\"Blues\", annot=True, fmt='g')\n",
    "sp2.set_title('Traning CM')\n",
    "\n",
    "fig.add_subplot(3, 1, 2)\n",
    "sp1 = sns.heatmap(df_cm_val, cmap=\"Blues\", annot=True, fmt='g')\n",
    "sp1.set_title('Validation CM')\n",
    "\n",
    "fig.add_subplot(3, 1, 3)\n",
    "sp2 = sns.heatmap(df_cm_test, cmap=\"Blues\", annot=True, fmt='g')\n",
    "sp2.set_title('Testing CM')\n",
    "\n",
    "plt.show()"
   ]
  },
  {
   "cell_type": "code",
   "execution_count": 31,
   "id": "828ec468",
   "metadata": {},
   "outputs": [
    {
     "name": "stdout",
     "output_type": "stream",
     "text": [
      "              precision    recall  f1-score   support\n",
      "\n",
      "        asso       1.00      1.00      1.00      1219\n",
      "      deauth       1.00      1.00      1.00      8610\n",
      "      disass       1.00      1.00      1.00     16611\n",
      "        evil       1.00      1.00      1.00     23072\n",
      "       krack       1.00      1.00      1.00     11053\n",
      "       krook       1.00      1.00      1.00     42408\n",
      "      normal       1.00      1.00      1.00      9740\n",
      "       rogue       1.00      1.00      1.00       289\n",
      "       spoof       1.00      1.00      1.00     44196\n",
      "\n",
      "    accuracy                           1.00    157198\n",
      "   macro avg       1.00      1.00      1.00    157198\n",
      "weighted avg       1.00      1.00      1.00    157198\n",
      "\n",
      "              precision    recall  f1-score   support\n",
      "\n",
      "        asso       1.00      1.00      1.00       600\n",
      "      deauth       1.00      1.00      1.00      4241\n",
      "      disass       1.00      1.00      1.00      8182\n",
      "        evil       1.00      1.00      1.00     11364\n",
      "       krack       1.00      1.00      1.00      5444\n",
      "       krook       1.00      1.00      1.00     20887\n",
      "      normal       1.00      1.00      1.00      4798\n",
      "       rogue       1.00      1.00      1.00       143\n",
      "       spoof       1.00      1.00      1.00     21768\n",
      "\n",
      "    accuracy                           1.00     77427\n",
      "   macro avg       1.00      1.00      1.00     77427\n",
      "weighted avg       1.00      1.00      1.00     77427\n",
      "\n"
     ]
    }
   ],
   "source": [
    "print(classification_report(class_labels[y_val], class_labels[y_preds_val], target_names=list(class_labels)))\n",
    "print(classification_report(class_labels[y_test], class_labels[y_preds_test], target_names=list(class_labels)))"
   ]
  }
 ],
 "metadata": {
  "kernelspec": {
   "display_name": "Python 3",
   "language": "python",
   "name": "python3"
  },
  "language_info": {
   "codemirror_mode": {
    "name": "ipython",
    "version": 3
   },
   "file_extension": ".py",
   "mimetype": "text/x-python",
   "name": "python",
   "nbconvert_exporter": "python",
   "pygments_lexer": "ipython3",
   "version": "3.8.5"
  }
 },
 "nbformat": 4,
 "nbformat_minor": 5
}
